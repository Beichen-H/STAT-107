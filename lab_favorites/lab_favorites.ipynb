{
 "cells": [
  {
   "attachments": {},
   "cell_type": "markdown",
   "metadata": {},
   "source": [
    "# Welcome to Lab: Favorites!\n",
    "\n",
    "In this lab, you will explore several favorites of DISCOVERY, including the favorite things of your TA, Karle, and Wade!  This will **help you prepare for the mosaic project that was introduced in lecture on Wednesday**.\n",
    "\n",
    "A few tips to remember:\n",
    "\n",
    "- **You are not alone on your journey in learning programming!**  You have your lab TA, your CAs, your lab group, and the professors (Prof. Wade and Prof. Karle), who are all here to help you out!\n",
    "- If you find yourself stuck for more than a few minutes, ask a neighbor or course staff for help!  When you are giving help to your neighbor, explain the **idea and approach** to the problem without sharing the answer itself so they can have the same **<i>ah-hah</i>** moment!\n",
    "- We are here to help you!  Don't feel embarrassed or shy to ask us for help!\n",
    "\n",
    "Let's get started!"
   ]
  },
  {
   "cell_type": "code",
   "execution_count": 1,
   "metadata": {},
   "outputs": [],
   "source": [
    "# Meet your CAs and TA if you haven't already!\n",
    "# ...first name is enough, we'll know who they are! :)\n",
    "ta_name = \"KUNLUN\"\n",
    "ca1_name = \"Jai\"\n",
    "ca2_name = \"Gerald\"\n",
    "ca3_name = \"\"\n",
    "\n",
    "\n",
    "# Say hello to each other!\n",
    "# - Groups of 3 are ideal :)\n",
    "# - However, groups of 2 or 4 are fine too!\n",
    "#\n",
    "# Question of the Day (QOTD) to Ask Your Group: \"What is your TV show/movie?\"\n",
    "partner1_name = \"Christ Goncalves\"\n",
    "partner1_netid = \"christg2\"\n",
    "partner1_fav = \"STAR WARS\"\n",
    "\n",
    "partner2_name = \"Beichen Hu\"\n",
    "partner2_netid = \"beichen7\"\n",
    "partner2_fav = \"Harry Potter\"\n",
    "\n",
    "partner3_name = \"\"\n",
    "partner3_netid = \"\"\n",
    "partner3_fav= \"\""
   ]
  },
  {
   "cell_type": "markdown",
   "metadata": {},
   "source": [
    "<hr style=\"color: #DD3403;\">"
   ]
  },
  {
   "cell_type": "markdown",
   "metadata": {},
   "source": [
    "# Part 1: Karle's Game Day!\n",
    "\n",
    "One of Karle's favorite events is tailgating before Illini football games! The best part of tailgating is obviously the food and drinks 😉. Because Karle is an extrovert, she invites **many** people to her parties. For the upcoming game against Purdue this Saturday (Go Illini!🟠🔵), she needs to mix \"mocktails\" in gallons for all of her guests.  In this part of the lab, you will write a simulation to help simulate the possible drinks available at Karle's tailgate.\n",
    "\n",
    "A \"mocktail\" has three ingredients:\n",
    "- A `mixer`, one of: `\"cranberry juice\"`, `\"lime juice\"`, `\"lemonade\"`, `\"kool-aid\"`, or `\"red bull\"` (gross!)\n",
    "- A `fruit`, one of: `\"watermelon\"`, `\"pineapple\"`, `\"lime\"`, `\"lemon\"`, or `\"cherry\"` (yum!)\n",
    "- A `core`, one of: `\"sparkling water\"`, `\"sprite\"`, and **add three other things** you should pick with your group to make five `\"core\"` component options!\n",
    "\n",
    "Create a DataFrame called `df` containing **10,000** simulations of possible \"mocktail\" combinations:\n",
    "\n",
    "*Hint: Make sure to import `random`!*"
   ]
  },
  {
   "cell_type": "code",
   "execution_count": 14,
   "metadata": {},
   "outputs": [
    {
     "data": {
      "text/html": [
       "<div>\n",
       "<style scoped>\n",
       "    .dataframe tbody tr th:only-of-type {\n",
       "        vertical-align: middle;\n",
       "    }\n",
       "\n",
       "    .dataframe tbody tr th {\n",
       "        vertical-align: top;\n",
       "    }\n",
       "\n",
       "    .dataframe thead th {\n",
       "        text-align: right;\n",
       "    }\n",
       "</style>\n",
       "<table border=\"1\" class=\"dataframe\">\n",
       "  <thead>\n",
       "    <tr style=\"text-align: right;\">\n",
       "      <th></th>\n",
       "      <th>mixer</th>\n",
       "      <th>fruit</th>\n",
       "      <th>core</th>\n",
       "    </tr>\n",
       "  </thead>\n",
       "  <tbody>\n",
       "    <tr>\n",
       "      <th>0</th>\n",
       "      <td>cranberry juice</td>\n",
       "      <td>pineapple</td>\n",
       "      <td>ginger ale</td>\n",
       "    </tr>\n",
       "    <tr>\n",
       "      <th>1</th>\n",
       "      <td>cranberry juice</td>\n",
       "      <td>watermelon</td>\n",
       "      <td>sparkling water</td>\n",
       "    </tr>\n",
       "    <tr>\n",
       "      <th>2</th>\n",
       "      <td>lime juice</td>\n",
       "      <td>watermelon</td>\n",
       "      <td>tonic water</td>\n",
       "    </tr>\n",
       "    <tr>\n",
       "      <th>3</th>\n",
       "      <td>lime juice</td>\n",
       "      <td>pineapple</td>\n",
       "      <td>ginger ale</td>\n",
       "    </tr>\n",
       "    <tr>\n",
       "      <th>4</th>\n",
       "      <td>kool-aid</td>\n",
       "      <td>watermelon</td>\n",
       "      <td>ginger ale</td>\n",
       "    </tr>\n",
       "    <tr>\n",
       "      <th>...</th>\n",
       "      <td>...</td>\n",
       "      <td>...</td>\n",
       "      <td>...</td>\n",
       "    </tr>\n",
       "    <tr>\n",
       "      <th>9995</th>\n",
       "      <td>kool-aid</td>\n",
       "      <td>cherry</td>\n",
       "      <td>sparkling water</td>\n",
       "    </tr>\n",
       "    <tr>\n",
       "      <th>9996</th>\n",
       "      <td>red bull</td>\n",
       "      <td>lime</td>\n",
       "      <td>club soda</td>\n",
       "    </tr>\n",
       "    <tr>\n",
       "      <th>9997</th>\n",
       "      <td>red bull</td>\n",
       "      <td>pineapple</td>\n",
       "      <td>club soda</td>\n",
       "    </tr>\n",
       "    <tr>\n",
       "      <th>9998</th>\n",
       "      <td>cranberry juice</td>\n",
       "      <td>cherry</td>\n",
       "      <td>ginger ale</td>\n",
       "    </tr>\n",
       "    <tr>\n",
       "      <th>9999</th>\n",
       "      <td>lemonade</td>\n",
       "      <td>lime</td>\n",
       "      <td>sprite</td>\n",
       "    </tr>\n",
       "  </tbody>\n",
       "</table>\n",
       "<p>10000 rows × 3 columns</p>\n",
       "</div>"
      ],
      "text/plain": [
       "                mixer       fruit             core\n",
       "0     cranberry juice   pineapple       ginger ale\n",
       "1     cranberry juice  watermelon  sparkling water\n",
       "2          lime juice  watermelon      tonic water\n",
       "3          lime juice   pineapple       ginger ale\n",
       "4            kool-aid  watermelon       ginger ale\n",
       "...               ...         ...              ...\n",
       "9995         kool-aid      cherry  sparkling water\n",
       "9996         red bull        lime        club soda\n",
       "9997         red bull   pineapple        club soda\n",
       "9998  cranberry juice      cherry       ginger ale\n",
       "9999         lemonade        lime           sprite\n",
       "\n",
       "[10000 rows x 3 columns]"
      ]
     },
     "execution_count": 14,
     "metadata": {},
     "output_type": "execute_result"
    }
   ],
   "source": [
    "# Write your simulation:\n",
    "import pandas as pd\n",
    "import random\n",
    "\n",
    "data = []\n",
    "for i in range(10000):\n",
    "    mixer = random.choice([\"cranberry juice\", \"lime juice\", \"lemonade\", \"kool-aid\", \"red bull\"])\n",
    "    fruit = random.choice([\"watermelon\", \"pineapple\", \"lime\", \"lemon\", \"cherry\"])\n",
    "    core = random.choice([\"sparkling water\", \"sprite\", \"tonic water\", \"ginger ale\", \"club soda\"])\n",
    "    data.append({\"mixer\":mixer, \"fruit\":fruit,\"core\":core})\n",
    "df = pd.DataFrame(data)\n",
    "df\n",
    "\n"
   ]
  },
  {
   "cell_type": "code",
   "execution_count": 15,
   "metadata": {},
   "outputs": [
    {
     "data": {
      "text/html": [
       "<div>\n",
       "<style scoped>\n",
       "    .dataframe tbody tr th:only-of-type {\n",
       "        vertical-align: middle;\n",
       "    }\n",
       "\n",
       "    .dataframe tbody tr th {\n",
       "        vertical-align: top;\n",
       "    }\n",
       "\n",
       "    .dataframe thead th {\n",
       "        text-align: right;\n",
       "    }\n",
       "</style>\n",
       "<table border=\"1\" class=\"dataframe\">\n",
       "  <thead>\n",
       "    <tr style=\"text-align: right;\">\n",
       "      <th></th>\n",
       "      <th>mixer</th>\n",
       "      <th>fruit</th>\n",
       "      <th>core</th>\n",
       "    </tr>\n",
       "  </thead>\n",
       "  <tbody>\n",
       "    <tr>\n",
       "      <th>0</th>\n",
       "      <td>cranberry juice</td>\n",
       "      <td>pineapple</td>\n",
       "      <td>ginger ale</td>\n",
       "    </tr>\n",
       "    <tr>\n",
       "      <th>1</th>\n",
       "      <td>cranberry juice</td>\n",
       "      <td>watermelon</td>\n",
       "      <td>sparkling water</td>\n",
       "    </tr>\n",
       "    <tr>\n",
       "      <th>2</th>\n",
       "      <td>lime juice</td>\n",
       "      <td>watermelon</td>\n",
       "      <td>tonic water</td>\n",
       "    </tr>\n",
       "    <tr>\n",
       "      <th>3</th>\n",
       "      <td>lime juice</td>\n",
       "      <td>pineapple</td>\n",
       "      <td>ginger ale</td>\n",
       "    </tr>\n",
       "    <tr>\n",
       "      <th>4</th>\n",
       "      <td>kool-aid</td>\n",
       "      <td>watermelon</td>\n",
       "      <td>ginger ale</td>\n",
       "    </tr>\n",
       "    <tr>\n",
       "      <th>...</th>\n",
       "      <td>...</td>\n",
       "      <td>...</td>\n",
       "      <td>...</td>\n",
       "    </tr>\n",
       "    <tr>\n",
       "      <th>9995</th>\n",
       "      <td>kool-aid</td>\n",
       "      <td>cherry</td>\n",
       "      <td>sparkling water</td>\n",
       "    </tr>\n",
       "    <tr>\n",
       "      <th>9996</th>\n",
       "      <td>red bull</td>\n",
       "      <td>lime</td>\n",
       "      <td>club soda</td>\n",
       "    </tr>\n",
       "    <tr>\n",
       "      <th>9997</th>\n",
       "      <td>red bull</td>\n",
       "      <td>pineapple</td>\n",
       "      <td>club soda</td>\n",
       "    </tr>\n",
       "    <tr>\n",
       "      <th>9998</th>\n",
       "      <td>cranberry juice</td>\n",
       "      <td>cherry</td>\n",
       "      <td>ginger ale</td>\n",
       "    </tr>\n",
       "    <tr>\n",
       "      <th>9999</th>\n",
       "      <td>lemonade</td>\n",
       "      <td>lime</td>\n",
       "      <td>sprite</td>\n",
       "    </tr>\n",
       "  </tbody>\n",
       "</table>\n",
       "<p>10000 rows × 3 columns</p>\n",
       "</div>"
      ],
      "text/plain": [
       "                mixer       fruit             core\n",
       "0     cranberry juice   pineapple       ginger ale\n",
       "1     cranberry juice  watermelon  sparkling water\n",
       "2          lime juice  watermelon      tonic water\n",
       "3          lime juice   pineapple       ginger ale\n",
       "4            kool-aid  watermelon       ginger ale\n",
       "...               ...         ...              ...\n",
       "9995         kool-aid      cherry  sparkling water\n",
       "9996         red bull        lime        club soda\n",
       "9997         red bull   pineapple        club soda\n",
       "9998  cranberry juice      cherry       ginger ale\n",
       "9999         lemonade        lime           sprite\n",
       "\n",
       "[10000 rows x 3 columns]"
      ]
     },
     "execution_count": 15,
     "metadata": {},
     "output_type": "execute_result"
    }
   ],
   "source": [
    "df"
   ]
  },
  {
   "cell_type": "markdown",
   "metadata": {},
   "source": [
    "### 🔬 Test Case Checkpoint 🔬"
   ]
  },
  {
   "cell_type": "code",
   "execution_count": 16,
   "metadata": {},
   "outputs": [
    {
     "name": "stdout",
     "output_type": "stream",
     "text": [
      "🎉 All tests passed! 🎉\n"
     ]
    }
   ],
   "source": [
    "## == CHECKPOINT TEST CASES: Karle's Game Day ==\n",
    "# - This read-only cell contains test cases for your previous cell.\n",
    "# - If this cell runs without any errors, you PASSED all test cases!\n",
    "# - If this cell results in any errors, check your previous cell, make changes, and RE-RUN your code and then this cell.\n",
    "mixers = [\"cranberry juice\", \"lime juice\", \"lemonade\", \"kool-aid\", \"red bull\"]\n",
    "fruits = [\"watermelon\", \"pineapple\", \"lime\", \"lemon\", \"cherry\"]\n",
    "cores = [\"sparkling water\", \"sprite\"]\n",
    "assert( 'df' in vars() ), \"Your simulation did not populate a DataFrame variable named `df`.\"\n",
    "assert( len(df) == 10000 ), \"The length of your `df` is not 10000, check the value in your for-loop declaration.\"\n",
    "assert( len(df.columns.to_list()) == 3 ), \"Your DataFrame should contain 3 columns!\"\n",
    "assert( 'mixer' in df ), \"Your DataFrame is missing a `mixer` column.\"\n",
    "assert( 'fruit' in df ), \"Your DataFrame is missing a `fruit` column.\"\n",
    "assert( 'core' in df ), \"Your DataFrame is missing a `core` column.\"\n",
    "for m in mixers:\n",
    "    assert ( m in list(df['mixer']) ), f\"Your DataFrame is missing the mixer {m}.\"\n",
    "for f in fruits:\n",
    "    assert ( f in list(df['fruit']) ), f\"Your DataFrame is missing the fruit {f}.\"\n",
    "for c in cores:\n",
    "    assert ( c in list(df['core']) ), f\"Your DataFrame is missing the core {c}.\"\n",
    "\n",
    "assert( len(set(df['core'])) == 5 ), \"Your DataFrame does not return five unique core components.\"\n",
    "\n",
    "## == SUCCESS MESSAGE ==\n",
    "# You will only see this message (with the emoji showing) if you passed all test cases:\n",
    "tada = \"\\N{PARTY POPPER}\"\n",
    "print(f\"{tada} All tests passed! {tada}\")"
   ]
  },
  {
   "cell_type": "markdown",
   "metadata": {},
   "source": [
    "## Estimated Probability of Red Bull!\n",
    "\n",
    "Many people feel the combination of energy drinks with other drinks is gross! Calculate the estimated probability that a randomly created drink has **red bull and sprite** or **red bull and sparkling water** in the variable `P_redBullCombo`. Use your simulation data to do this!"
   ]
  },
  {
   "cell_type": "code",
   "execution_count": 21,
   "metadata": {},
   "outputs": [
    {
     "data": {
      "text/plain": [
       "0.0758"
      ]
     },
     "execution_count": 21,
     "metadata": {},
     "output_type": "execute_result"
    }
   ],
   "source": [
    "redBullCombo = df[(df[\"mixer\"] == \"red bull\") & ((df[\"core\"]==\"sprite\")|(df[\"core\"] == \"sparkling water\"))]\n",
    "redBullCombo\n",
    "P_redBullCombo = len(redBullCombo)/10000\n",
    "P_redBullCombo\n"
   ]
  },
  {
   "cell_type": "markdown",
   "metadata": {},
   "source": [
    "## Estimated Probability of a True Mocktail\n",
    "\n",
    "Karle is incredibly suspicious of the extra ingredients you picked for her, so we consider a \"true mocktail\" to be a drink made with a core of `\"sparkling water\"` or `\"sprite\"` only.  Calculate the estimated probability that a randomly created drink is a \"true mocktail\" the variable `P_trueMocktail`:\n"
   ]
  },
  {
   "cell_type": "code",
   "execution_count": 25,
   "metadata": {},
   "outputs": [
    {
     "data": {
      "text/plain": [
       "0.4021"
      ]
     },
     "execution_count": 25,
     "metadata": {},
     "output_type": "execute_result"
    }
   ],
   "source": [
    "trueMocktail = df[(df[\"core\"]==\"sprite\")|(df[\"core\"] == \"sparkling water\")]\n",
    "P_trueMocktail = len(trueMocktail)/10000\n",
    "P_trueMocktail\n"
   ]
  },
  {
   "cell_type": "markdown",
   "metadata": {},
   "source": [
    "### 🔬 Test Case Checkpoint 🔬"
   ]
  },
  {
   "cell_type": "code",
   "execution_count": 26,
   "metadata": {},
   "outputs": [
    {
     "name": "stdout",
     "output_type": "stream",
     "text": [
      "🎉 All tests passed! 🎉\n"
     ]
    }
   ],
   "source": [
    "## == CHECKPOINT TEST CASES: Mocktail Probabilities ==\n",
    "# - This read-only cell contains test cases for your previous cell.\n",
    "# - If this cell runs without any errors, you PASSED all test cases!\n",
    "# - If this cell results in any errors, check your previous cell, make changes, and RE-RUN your code and then this cell.\n",
    "assert( 0.07 <= P_redBullCombo and 0.095 >= P_redBullCombo ), \"You've calculated `P_redBullCombo` incorrectly.\"\n",
    "assert( 0.38 <= P_trueMocktail and 0.42 >= P_trueMocktail ), \"You've calculated `P_trueMocktail` incorrectly.\"\n",
    "'''\n",
    "NOTE: \n",
    "These boundary values were obtained by running 10,000 correct simulations and finding the max, min probability of ALL those runs. \n",
    "There is still a chance, albeit *extremely* low, that a student fails this test case with correct code. \n",
    "If the value is suspiciously close, try running all cells again. \n",
    "'''\n",
    "\n",
    "## == SUCCESS MESSAGE ==\n",
    "# You will only see this message (with the emoji showing) if you passed all test cases:\n",
    "tada = \"\\N{PARTY POPPER}\"\n",
    "print(f\"{tada} All tests passed! {tada}\")"
   ]
  },
  {
   "cell_type": "markdown",
   "metadata": {},
   "source": [
    "### Analysis: Using Simulations for Estimated Probabilities\n",
    "\n",
    "**Q1: Is the probability you calculated of a \"true mocktail\" the exact probability of a \"true mocktail\" or is it an estimate?**"
   ]
  },
  {
   "cell_type": "markdown",
   "metadata": {},
   "source": [
    "*(It is an estimate)*"
   ]
  },
  {
   "cell_type": "markdown",
   "metadata": {},
   "source": [
    "<hr style=\"color: #DD3403;\">"
   ]
  },
  {
   "cell_type": "markdown",
   "metadata": {},
   "source": [
    "# Part 2: Using Images - Getting Ready for Project #1\n",
    "\n",
    "Up until now, we have used **organized, well-structured data** in DISCOVERY.  However, data can be found everywhere and, in this lab, we'll begin to explore the data that does come to us in a CSV!\n",
    "\n",
    "Specifically, let's look at an **image**!  A computer represents an image as a 2D grid of **pixels** where each pixel is a single color.  Each dot on your computer's screen a pixel, so here's a **really small** image that is 3 pixels by 3 pixels: ![sample image](./notebook-images/sample.png)\n",
    "\n",
    "Here is the that same 3x3 image, **zoomed in at 50x**:\n",
    "\n",
    "![Color](./notebook-images/sample-50x.png)\n",
    "\n",
    "\n",
    "## Using the DISCOVERY Library\n",
    "\n",
    "We will need to use Python to help us process large images, but we will use the example 3x3 image to understand how to work with images!  For this lab, we have provided the function for you to load images as a DataFrame.\n",
    "\n",
    "- Use `import DISCOVERY` to import the DISCOVERY library\n",
    "- Use `DISCOVERY.df_image(\"sample.png\")` to load the image and return the data in the form of a DataFrame\n",
    "- Save your image DataFrame you've loaded as `df_pixels`\n",
    "\n"
   ]
  },
  {
   "cell_type": "code",
   "execution_count": 38,
   "metadata": {},
   "outputs": [
    {
     "data": {
      "text/html": [
       "<div>\n",
       "<style scoped>\n",
       "    .dataframe tbody tr th:only-of-type {\n",
       "        vertical-align: middle;\n",
       "    }\n",
       "\n",
       "    .dataframe tbody tr th {\n",
       "        vertical-align: top;\n",
       "    }\n",
       "\n",
       "    .dataframe thead th {\n",
       "        text-align: right;\n",
       "    }\n",
       "</style>\n",
       "<table border=\"1\" class=\"dataframe\">\n",
       "  <thead>\n",
       "    <tr style=\"text-align: right;\">\n",
       "      <th></th>\n",
       "      <th>x</th>\n",
       "      <th>y</th>\n",
       "      <th>r</th>\n",
       "      <th>g</th>\n",
       "      <th>b</th>\n",
       "    </tr>\n",
       "  </thead>\n",
       "  <tbody>\n",
       "    <tr>\n",
       "      <th>0</th>\n",
       "      <td>0</td>\n",
       "      <td>0</td>\n",
       "      <td>0</td>\n",
       "      <td>0</td>\n",
       "      <td>255</td>\n",
       "    </tr>\n",
       "    <tr>\n",
       "      <th>1</th>\n",
       "      <td>0</td>\n",
       "      <td>1</td>\n",
       "      <td>0</td>\n",
       "      <td>255</td>\n",
       "      <td>0</td>\n",
       "    </tr>\n",
       "    <tr>\n",
       "      <th>2</th>\n",
       "      <td>0</td>\n",
       "      <td>2</td>\n",
       "      <td>255</td>\n",
       "      <td>255</td>\n",
       "      <td>255</td>\n",
       "    </tr>\n",
       "    <tr>\n",
       "      <th>3</th>\n",
       "      <td>1</td>\n",
       "      <td>0</td>\n",
       "      <td>255</td>\n",
       "      <td>255</td>\n",
       "      <td>255</td>\n",
       "    </tr>\n",
       "    <tr>\n",
       "      <th>4</th>\n",
       "      <td>1</td>\n",
       "      <td>1</td>\n",
       "      <td>0</td>\n",
       "      <td>0</td>\n",
       "      <td>0</td>\n",
       "    </tr>\n",
       "    <tr>\n",
       "      <th>5</th>\n",
       "      <td>1</td>\n",
       "      <td>2</td>\n",
       "      <td>255</td>\n",
       "      <td>85</td>\n",
       "      <td>46</td>\n",
       "    </tr>\n",
       "    <tr>\n",
       "      <th>6</th>\n",
       "      <td>2</td>\n",
       "      <td>0</td>\n",
       "      <td>255</td>\n",
       "      <td>0</td>\n",
       "      <td>0</td>\n",
       "    </tr>\n",
       "    <tr>\n",
       "      <th>7</th>\n",
       "      <td>2</td>\n",
       "      <td>1</td>\n",
       "      <td>255</td>\n",
       "      <td>255</td>\n",
       "      <td>255</td>\n",
       "    </tr>\n",
       "    <tr>\n",
       "      <th>8</th>\n",
       "      <td>2</td>\n",
       "      <td>2</td>\n",
       "      <td>19</td>\n",
       "      <td>41</td>\n",
       "      <td>75</td>\n",
       "    </tr>\n",
       "  </tbody>\n",
       "</table>\n",
       "</div>"
      ],
      "text/plain": [
       "   x  y    r    g    b\n",
       "0  0  0    0    0  255\n",
       "1  0  1    0  255    0\n",
       "2  0  2  255  255  255\n",
       "3  1  0  255  255  255\n",
       "4  1  1    0    0    0\n",
       "5  1  2  255   85   46\n",
       "6  2  0  255    0    0\n",
       "7  2  1  255  255  255\n",
       "8  2  2   19   41   75"
      ]
     },
     "execution_count": 38,
     "metadata": {},
     "output_type": "execute_result"
    }
   ],
   "source": [
    "# Load the image into a DataFrame `df_pixels`:\n",
    "import DISCOVERY\n",
    "df_pixels = DISCOVERY.df_image(\"sample.png\")\n",
    "df_pixels"
   ]
  },
  {
   "cell_type": "markdown",
   "metadata": {},
   "source": [
    "### 🔬 Test Case Checkpoint 🔬"
   ]
  },
  {
   "cell_type": "code",
   "execution_count": 28,
   "metadata": {},
   "outputs": [
    {
     "name": "stdout",
     "output_type": "stream",
     "text": [
      "🎉 All tests passed! 🎉\n"
     ]
    }
   ],
   "source": [
    "## == CHECKPOINT TEST CASES: Using Images ==\n",
    "# - This read-only cell contains test cases for your previous cell.\n",
    "# - If this cell runs without any errors, you PASSED all test cases!\n",
    "# - If this cell results in any errors, check your previous cell, make changes, and RE-RUN your code and then this cell.\n",
    "assert( len(df_pixels) == 9 ), \"The length of your `df_pixels` should be 9 - there's 9 pixels in the sample.png!\"\n",
    "assert( len(df_pixels.columns.to_list() ) == 5 ), \"There should be five columns in your `df_pixels`.\"\n",
    "for col in ['x', 'y', 'r', 'g', 'b']:\n",
    "    assert ( col in df_pixels ), f\"Your `df_pixels` is missing the {col} column. Make sure you're using the `DISCOVERY.df_image()` function!\"\n",
    "\n",
    "## == SUCCESS MESSAGE ==\n",
    "# You will only see this message (with the emoji showing) if you passed all test cases:\n",
    "tada = \"\\N{PARTY POPPER}\"\n",
    "print(f\"{tada} All tests passed! {tada}\")"
   ]
  },
  {
   "cell_type": "markdown",
   "metadata": {},
   "source": [
    "## Understanding the DataFrame\n",
    "\n",
    "In your DataFrame above, every pixel has five values:\n",
    "- An `x` value, for the **x** (horizontal) position, starting with `0` in the top-left\n",
    "- A `y` value, for the **y** (vertical) position, starting with `0` in the top-left\n",
    "- An `r` value, for the amount of **red** color in the image (`0` means no red, `255` means 100% red)\n",
    "- A `g` value, for the amount of **green** color in the image (`0` - `255`)\n",
    "- A `b` value, for the amount of **blue** color in the image (`0` - `255`)\n",
    "\n",
    "In the image above, the top-left cell is blue.  Let's see what that looks like in data:\n"
   ]
  },
  {
   "cell_type": "code",
   "execution_count": 29,
   "metadata": {},
   "outputs": [
    {
     "data": {
      "text/html": [
       "<div>\n",
       "<style scoped>\n",
       "    .dataframe tbody tr th:only-of-type {\n",
       "        vertical-align: middle;\n",
       "    }\n",
       "\n",
       "    .dataframe tbody tr th {\n",
       "        vertical-align: top;\n",
       "    }\n",
       "\n",
       "    .dataframe thead th {\n",
       "        text-align: right;\n",
       "    }\n",
       "</style>\n",
       "<table border=\"1\" class=\"dataframe\">\n",
       "  <thead>\n",
       "    <tr style=\"text-align: right;\">\n",
       "      <th></th>\n",
       "      <th>x</th>\n",
       "      <th>y</th>\n",
       "      <th>r</th>\n",
       "      <th>g</th>\n",
       "      <th>b</th>\n",
       "    </tr>\n",
       "  </thead>\n",
       "  <tbody>\n",
       "    <tr>\n",
       "      <th>0</th>\n",
       "      <td>0</td>\n",
       "      <td>0</td>\n",
       "      <td>0</td>\n",
       "      <td>0</td>\n",
       "      <td>255</td>\n",
       "    </tr>\n",
       "  </tbody>\n",
       "</table>\n",
       "</div>"
      ],
      "text/plain": [
       "   x  y  r  g    b\n",
       "0  0  0  0  0  255"
      ]
     },
     "execution_count": 29,
     "metadata": {},
     "output_type": "execute_result"
    }
   ],
   "source": [
    "df_pixels[ (df_pixels.x == 0) & (df_pixels.y == 0) ]"
   ]
  },
  {
   "cell_type": "markdown",
   "metadata": {},
   "source": [
    "...the color value for `(x = 0, y = 0)` is all blue (`b = 255`) with no other colors added.  Moving to the right to `x == 1`:"
   ]
  },
  {
   "cell_type": "code",
   "execution_count": 30,
   "metadata": {},
   "outputs": [
    {
     "data": {
      "text/html": [
       "<div>\n",
       "<style scoped>\n",
       "    .dataframe tbody tr th:only-of-type {\n",
       "        vertical-align: middle;\n",
       "    }\n",
       "\n",
       "    .dataframe tbody tr th {\n",
       "        vertical-align: top;\n",
       "    }\n",
       "\n",
       "    .dataframe thead th {\n",
       "        text-align: right;\n",
       "    }\n",
       "</style>\n",
       "<table border=\"1\" class=\"dataframe\">\n",
       "  <thead>\n",
       "    <tr style=\"text-align: right;\">\n",
       "      <th></th>\n",
       "      <th>x</th>\n",
       "      <th>y</th>\n",
       "      <th>r</th>\n",
       "      <th>g</th>\n",
       "      <th>b</th>\n",
       "    </tr>\n",
       "  </thead>\n",
       "  <tbody>\n",
       "    <tr>\n",
       "      <th>3</th>\n",
       "      <td>1</td>\n",
       "      <td>0</td>\n",
       "      <td>255</td>\n",
       "      <td>255</td>\n",
       "      <td>255</td>\n",
       "    </tr>\n",
       "  </tbody>\n",
       "</table>\n",
       "</div>"
      ],
      "text/plain": [
       "   x  y    r    g    b\n",
       "3  1  0  255  255  255"
      ]
     },
     "execution_count": 30,
     "metadata": {},
     "output_type": "execute_result"
    }
   ],
   "source": [
    "df_pixels[ (df_pixels.x == 1) & (df_pixels.y == 0) ]"
   ]
  },
  {
   "cell_type": "markdown",
   "metadata": {},
   "source": [
    "...the color value for `(x = 1, y = 0)` is all the colors (`r`, `g` and `b` are all `255`).  Since computers create colors with light (\"additive colors\"), the combination of all the colors makes a white color."
   ]
  },
  {
   "cell_type": "markdown",
   "metadata": {},
   "source": [
    "## Finding all the white pixels\n",
    "\n",
    "Just above this section, you learned how a white pixel is represented in data.  Create a new DataFrame, `df_white`, that contains all of the white pixels in the sample image:"
   ]
  },
  {
   "cell_type": "code",
   "execution_count": 39,
   "metadata": {},
   "outputs": [
    {
     "data": {
      "text/html": [
       "<div>\n",
       "<style scoped>\n",
       "    .dataframe tbody tr th:only-of-type {\n",
       "        vertical-align: middle;\n",
       "    }\n",
       "\n",
       "    .dataframe tbody tr th {\n",
       "        vertical-align: top;\n",
       "    }\n",
       "\n",
       "    .dataframe thead th {\n",
       "        text-align: right;\n",
       "    }\n",
       "</style>\n",
       "<table border=\"1\" class=\"dataframe\">\n",
       "  <thead>\n",
       "    <tr style=\"text-align: right;\">\n",
       "      <th></th>\n",
       "      <th>x</th>\n",
       "      <th>y</th>\n",
       "      <th>r</th>\n",
       "      <th>g</th>\n",
       "      <th>b</th>\n",
       "    </tr>\n",
       "  </thead>\n",
       "  <tbody>\n",
       "    <tr>\n",
       "      <th>2</th>\n",
       "      <td>0</td>\n",
       "      <td>2</td>\n",
       "      <td>255</td>\n",
       "      <td>255</td>\n",
       "      <td>255</td>\n",
       "    </tr>\n",
       "    <tr>\n",
       "      <th>3</th>\n",
       "      <td>1</td>\n",
       "      <td>0</td>\n",
       "      <td>255</td>\n",
       "      <td>255</td>\n",
       "      <td>255</td>\n",
       "    </tr>\n",
       "    <tr>\n",
       "      <th>7</th>\n",
       "      <td>2</td>\n",
       "      <td>1</td>\n",
       "      <td>255</td>\n",
       "      <td>255</td>\n",
       "      <td>255</td>\n",
       "    </tr>\n",
       "  </tbody>\n",
       "</table>\n",
       "</div>"
      ],
      "text/plain": [
       "   x  y    r    g    b\n",
       "2  0  2  255  255  255\n",
       "3  1  0  255  255  255\n",
       "7  2  1  255  255  255"
      ]
     },
     "execution_count": 39,
     "metadata": {},
     "output_type": "execute_result"
    }
   ],
   "source": [
    "df_white = df_pixels[(df_pixels.r == 255)&(df_pixels.g == 255)&(df_pixels.b == 255)]\n",
    "df_white"
   ]
  },
  {
   "cell_type": "markdown",
   "metadata": {},
   "source": [
    "## Finding all the \"primarily red\" pixels\n",
    "\n",
    "Find all the pixels that are \"primarily red\", where a \"primarily red\" pixel has more red than green **AND** more red than blue.  Store all the \"primarily red\" pixels in the DataFrame `df_red`."
   ]
  },
  {
   "cell_type": "code",
   "execution_count": 35,
   "metadata": {},
   "outputs": [
    {
     "data": {
      "text/html": [
       "<div>\n",
       "<style scoped>\n",
       "    .dataframe tbody tr th:only-of-type {\n",
       "        vertical-align: middle;\n",
       "    }\n",
       "\n",
       "    .dataframe tbody tr th {\n",
       "        vertical-align: top;\n",
       "    }\n",
       "\n",
       "    .dataframe thead th {\n",
       "        text-align: right;\n",
       "    }\n",
       "</style>\n",
       "<table border=\"1\" class=\"dataframe\">\n",
       "  <thead>\n",
       "    <tr style=\"text-align: right;\">\n",
       "      <th></th>\n",
       "      <th>x</th>\n",
       "      <th>y</th>\n",
       "      <th>r</th>\n",
       "      <th>g</th>\n",
       "      <th>b</th>\n",
       "    </tr>\n",
       "  </thead>\n",
       "  <tbody>\n",
       "    <tr>\n",
       "      <th>5</th>\n",
       "      <td>1</td>\n",
       "      <td>2</td>\n",
       "      <td>255</td>\n",
       "      <td>85</td>\n",
       "      <td>46</td>\n",
       "    </tr>\n",
       "    <tr>\n",
       "      <th>6</th>\n",
       "      <td>2</td>\n",
       "      <td>0</td>\n",
       "      <td>255</td>\n",
       "      <td>0</td>\n",
       "      <td>0</td>\n",
       "    </tr>\n",
       "  </tbody>\n",
       "</table>\n",
       "</div>"
      ],
      "text/plain": [
       "   x  y    r   g   b\n",
       "5  1  2  255  85  46\n",
       "6  2  0  255   0   0"
      ]
     },
     "execution_count": 35,
     "metadata": {},
     "output_type": "execute_result"
    }
   ],
   "source": [
    "df_red = df_pixels[(df_pixels.r > df_pixels.g) & (df_pixels.r > df_pixels.b)]\n",
    "df_red"
   ]
  },
  {
   "cell_type": "markdown",
   "metadata": {},
   "source": [
    "### 🔬 Test Case Checkpoint 🔬"
   ]
  },
  {
   "cell_type": "code",
   "execution_count": 40,
   "metadata": {},
   "outputs": [
    {
     "name": "stdout",
     "output_type": "stream",
     "text": [
      "🎉 All tests passed! 🎉\n"
     ]
    }
   ],
   "source": [
    "## == CHECKPOINT TEST CASES: Finding Pixels ==\n",
    "# - This read-only cell contains test cases for your previous cell.\n",
    "# - If this cell runs without any errors, you PASSED all test cases!\n",
    "# - If this cell results in any errors, check your previous cell, make changes, and RE-RUN your code and then this cell.\n",
    "assert( 'df_white' in vars() ), \"Make sure your DataFrame of white pixels is named `df_white`.\"\n",
    "assert( 'df_red' in vars() ), \"Make sure your DataFrame of red pixels is named `df_red`.\"\n",
    "assert( len(df_white) == 3 ), \"Your `df_white` does not contain all three white pixels in the sample image.\"\n",
    "assert( (df_white['r'] == 255).all() and (df_white['g'] == 255).all() and (df_white['b'] == 255).all() ), \"Your `df_white` contains non-white pixels.\"\n",
    "assert( len(df_red) == 2 ), \"Your `df_red` does not contain the two 'primarily red' pixels in the sample image.\"\n",
    "assert( set(df_red['x'] + df_red['y']) == {2, 3} ), \"Your `df_red` does not contain the two 'primarily red' pixels in the sample image.\"\n",
    "\n",
    "## == SUCCESS MESSAGE ==\n",
    "# You will only see this message (with the emoji showing) if you passed all test cases:\n",
    "tada = \"\\N{PARTY POPPER}\"\n",
    "print(f\"{tada} All tests passed! {tada}\")"
   ]
  },
  {
   "cell_type": "markdown",
   "metadata": {},
   "source": [
    "### Analysis: A Certain Area of Pixels\n",
    "\n",
    "Looking at pixels of a certain color is interesting, but something else we can analyze with this DataFrame is a certain area of pixels!\n",
    "\n",
    "**Q2: If we wanted to analyze a DataFrame containing only the pixels in a 2x2 grid of pixels -- such as the bottom-right corner of the sample image --  how would you create a subset of the rows in your above DataFrame to only contain those 2x2 pixels?**"
   ]
  },
  {
   "cell_type": "markdown",
   "metadata": {},
   "source": [
    "*(To create a subset of the DataFrame for a 2x2 grid in the bottom-right corner, I think we can select the row with x = 0,1 and y = 0,1.)*"
   ]
  },
  {
   "cell_type": "markdown",
   "metadata": {},
   "source": [
    "<hr style=\"color: #DD3403;\">"
   ]
  },
  {
   "cell_type": "markdown",
   "metadata": {},
   "source": [
    "# Part 3: Your Lab-Specific Image with your TAs and CAs\n",
    "\n",
    "Before your section, your TA -- with the help of the CAs -- picked an image for you to do analysis on!\n",
    "\n",
    "- Navigate to the image and save the image to your computer.\n",
    "- Place the image in the same folder as this lab (`lab_favorites`).\n",
    "- Load the image into a DataFrame `df`."
   ]
  },
  {
   "cell_type": "code",
   "execution_count": 37,
   "metadata": {},
   "outputs": [
    {
     "data": {
      "text/html": [
       "<div>\n",
       "<style scoped>\n",
       "    .dataframe tbody tr th:only-of-type {\n",
       "        vertical-align: middle;\n",
       "    }\n",
       "\n",
       "    .dataframe tbody tr th {\n",
       "        vertical-align: top;\n",
       "    }\n",
       "\n",
       "    .dataframe thead th {\n",
       "        text-align: right;\n",
       "    }\n",
       "</style>\n",
       "<table border=\"1\" class=\"dataframe\">\n",
       "  <thead>\n",
       "    <tr style=\"text-align: right;\">\n",
       "      <th></th>\n",
       "      <th>x</th>\n",
       "      <th>y</th>\n",
       "      <th>r</th>\n",
       "      <th>g</th>\n",
       "      <th>b</th>\n",
       "    </tr>\n",
       "  </thead>\n",
       "  <tbody>\n",
       "    <tr>\n",
       "      <th>0</th>\n",
       "      <td>0</td>\n",
       "      <td>0</td>\n",
       "      <td>235</td>\n",
       "      <td>216</td>\n",
       "      <td>199</td>\n",
       "    </tr>\n",
       "    <tr>\n",
       "      <th>1</th>\n",
       "      <td>0</td>\n",
       "      <td>1</td>\n",
       "      <td>235</td>\n",
       "      <td>216</td>\n",
       "      <td>199</td>\n",
       "    </tr>\n",
       "    <tr>\n",
       "      <th>2</th>\n",
       "      <td>0</td>\n",
       "      <td>2</td>\n",
       "      <td>236</td>\n",
       "      <td>217</td>\n",
       "      <td>200</td>\n",
       "    </tr>\n",
       "    <tr>\n",
       "      <th>3</th>\n",
       "      <td>0</td>\n",
       "      <td>3</td>\n",
       "      <td>235</td>\n",
       "      <td>216</td>\n",
       "      <td>199</td>\n",
       "    </tr>\n",
       "    <tr>\n",
       "      <th>4</th>\n",
       "      <td>0</td>\n",
       "      <td>4</td>\n",
       "      <td>233</td>\n",
       "      <td>214</td>\n",
       "      <td>199</td>\n",
       "    </tr>\n",
       "    <tr>\n",
       "      <th>...</th>\n",
       "      <td>...</td>\n",
       "      <td>...</td>\n",
       "      <td>...</td>\n",
       "      <td>...</td>\n",
       "      <td>...</td>\n",
       "    </tr>\n",
       "    <tr>\n",
       "      <th>749995</th>\n",
       "      <td>749</td>\n",
       "      <td>995</td>\n",
       "      <td>53</td>\n",
       "      <td>67</td>\n",
       "      <td>138</td>\n",
       "    </tr>\n",
       "    <tr>\n",
       "      <th>749996</th>\n",
       "      <td>749</td>\n",
       "      <td>996</td>\n",
       "      <td>55</td>\n",
       "      <td>69</td>\n",
       "      <td>140</td>\n",
       "    </tr>\n",
       "    <tr>\n",
       "      <th>749997</th>\n",
       "      <td>749</td>\n",
       "      <td>997</td>\n",
       "      <td>56</td>\n",
       "      <td>70</td>\n",
       "      <td>141</td>\n",
       "    </tr>\n",
       "    <tr>\n",
       "      <th>749998</th>\n",
       "      <td>749</td>\n",
       "      <td>998</td>\n",
       "      <td>56</td>\n",
       "      <td>70</td>\n",
       "      <td>141</td>\n",
       "    </tr>\n",
       "    <tr>\n",
       "      <th>749999</th>\n",
       "      <td>749</td>\n",
       "      <td>999</td>\n",
       "      <td>55</td>\n",
       "      <td>69</td>\n",
       "      <td>140</td>\n",
       "    </tr>\n",
       "  </tbody>\n",
       "</table>\n",
       "<p>750000 rows × 5 columns</p>\n",
       "</div>"
      ],
      "text/plain": [
       "          x    y    r    g    b\n",
       "0         0    0  235  216  199\n",
       "1         0    1  235  216  199\n",
       "2         0    2  236  217  200\n",
       "3         0    3  235  216  199\n",
       "4         0    4  233  214  199\n",
       "...     ...  ...  ...  ...  ...\n",
       "749995  749  995   53   67  138\n",
       "749996  749  996   55   69  140\n",
       "749997  749  997   56   70  141\n",
       "749998  749  998   56   70  141\n",
       "749999  749  999   55   69  140\n",
       "\n",
       "[750000 rows x 5 columns]"
      ]
     },
     "execution_count": 37,
     "metadata": {},
     "output_type": "execute_result"
    }
   ],
   "source": [
    "# Load the image your TA chose for you into a DataFrame:\n",
    "df_lab_image = DISCOVERY.df_image(\"y12.jpg\")\n",
    "df_lab_image"
   ]
  },
  {
   "cell_type": "markdown",
   "metadata": {},
   "source": [
    "## Primary \"Primary Color\"\n",
    "\n",
    "Using the idea of \"primary red\" pixels, we will extend the idea to \"primary red\", \"primary green\", or \"primary blue\".  In the following three sections, find the **percentage of pixels** that are primarily red, green, and blue, storing them **as decimals** in `percent_r`, `percent_g`, and `percent_b`:"
   ]
  },
  {
   "cell_type": "code",
   "execution_count": 41,
   "metadata": {},
   "outputs": [
    {
     "data": {
      "text/plain": [
       "0.695764"
      ]
     },
     "execution_count": 41,
     "metadata": {},
     "output_type": "execute_result"
    }
   ],
   "source": [
    "# Find the percentage of primarily red pixels:\n",
    "red = df_lab_image[(df_lab_image.r > df_lab_image.g) & (df_lab_image.r > df_lab_image.b)]\n",
    "percent_r = len(red)/len(df_lab_image)\n",
    "percent_r"
   ]
  },
  {
   "cell_type": "code",
   "execution_count": 42,
   "metadata": {},
   "outputs": [
    {
     "data": {
      "text/plain": [
       "0.001308"
      ]
     },
     "execution_count": 42,
     "metadata": {},
     "output_type": "execute_result"
    }
   ],
   "source": [
    "# Find the percentage of primarily green pixels:\n",
    "green = df_lab_image[(df_lab_image.g > df_lab_image.r) & (df_lab_image.g > df_lab_image.b)]\n",
    "percent_g = len(green)/len(df_lab_image)\n",
    "percent_g"
   ]
  },
  {
   "cell_type": "code",
   "execution_count": 43,
   "metadata": {},
   "outputs": [
    {
     "data": {
      "text/plain": [
       "0.2949426666666667"
      ]
     },
     "execution_count": 43,
     "metadata": {},
     "output_type": "execute_result"
    }
   ],
   "source": [
    "# Find the percentage of primarily blue pixels:\n",
    "blue = df_lab_image[(df_lab_image.b > df_lab_image.g) & (df_lab_image.b > df_lab_image.r)]\n",
    "percent_b = len(blue)/len(df_lab_image)\n",
    "percent_b"
   ]
  },
  {
   "cell_type": "markdown",
   "metadata": {},
   "source": [
    "### 🔬 Test Case Checkpoint 🔬"
   ]
  },
  {
   "cell_type": "code",
   "execution_count": 44,
   "metadata": {},
   "outputs": [
    {
     "name": "stdout",
     "output_type": "stream",
     "text": [
      "🎉 All tests passed! 🎉\n"
     ]
    }
   ],
   "source": [
    "## == CHECKPOINT TEST CASES: Finding Percentages ==\n",
    "# - This read-only cell contains test cases for your previous cell.\n",
    "# - If this cell runs without any errors, you PASSED all test cases!\n",
    "# - If this cell results in any errors, check your previous cell, make changes, and RE-RUN your code and then this cell.\n",
    "assert( isinstance(percent_r, float) and isinstance(percent_g, float) and isinstance(percent_b, float) ), \"Your percentages of r, g, b pixels should be decimal (float) variables.\"\n",
    "assert( percent_r >= 0 and percent_r <= 1 ), \"The percentage of red pixels must be between 0 and 1.\"\n",
    "assert( percent_g >= 0 and percent_g <= 1 ), \"The percentage of green pixels must be between 0 and 1.\"\n",
    "assert( percent_b >= 0 and percent_b <= 1 ), \"The percentage of blue pixels must be between 0 and 1.\"\n",
    "total = percent_r + percent_g + percent_b\n",
    "assert( total >= 0 and total <= 1 ), \"The total of your percentages should be between 0 and 1, not exceeding 1!\"\n",
    "\n",
    "## == SUCCESS MESSAGE ==\n",
    "# You will only see this message (with the emoji showing) if you passed all test cases:\n",
    "tada = \"\\N{PARTY POPPER}\"\n",
    "print(f\"{tada} All tests passed! {tada}\")"
   ]
  },
  {
   "cell_type": "markdown",
   "metadata": {},
   "source": [
    "## Average Color\n",
    "\n",
    "Finally, find the average color of the entire image.  The average color will have three components: the average red, the average green, and the average blue."
   ]
  },
  {
   "cell_type": "code",
   "execution_count": 47,
   "metadata": {},
   "outputs": [
    {
     "data": {
      "text/plain": [
       "np.float64(153.88834133333333)"
      ]
     },
     "execution_count": 47,
     "metadata": {},
     "output_type": "execute_result"
    }
   ],
   "source": [
    "# Find the average red:\n",
    "avg_red = df_lab_image['r'].mean()\n",
    "avg_red"
   ]
  },
  {
   "cell_type": "code",
   "execution_count": 48,
   "metadata": {},
   "outputs": [
    {
     "data": {
      "text/plain": [
       "np.float64(134.39772533333334)"
      ]
     },
     "execution_count": 48,
     "metadata": {},
     "output_type": "execute_result"
    }
   ],
   "source": [
    "# Find the average green:\n",
    "avg_green = df_lab_image['g'].mean()\n",
    "avg_green"
   ]
  },
  {
   "cell_type": "code",
   "execution_count": 49,
   "metadata": {},
   "outputs": [
    {
     "data": {
      "text/plain": [
       "np.float64(129.701772)"
      ]
     },
     "execution_count": 49,
     "metadata": {},
     "output_type": "execute_result"
    }
   ],
   "source": [
    "# Find the average blue:\n",
    "avg_blue = df_lab_image['b'].mean()\n",
    "avg_blue"
   ]
  },
  {
   "cell_type": "markdown",
   "metadata": {},
   "source": [
    "### 🔬 Test Case Checkpoint 🔬"
   ]
  },
  {
   "cell_type": "code",
   "execution_count": 50,
   "metadata": {},
   "outputs": [
    {
     "name": "stdout",
     "output_type": "stream",
     "text": [
      "🎉 All tests passed! 🎉\n"
     ]
    }
   ],
   "source": [
    "## == CHECKPOINT TEST CASES: Finding Averages ==\n",
    "# - This read-only cell contains test cases for your previous cell.\n",
    "# - If this cell runs without any errors, you PASSED all test cases!\n",
    "# - If this cell results in any errors, check your previous cell, make changes, and RE-RUN your code and then this cell.\n",
    "assert( isinstance(avg_red, float) and isinstance(avg_green, float) and isinstance(avg_blue, float) ), \"Your average pixel color values should be decimal (float) variables.\"\n",
    "assert( avg_red >= 0 and avg_red <= 255 ), \"The average red value must be between 0 and 255.\"\n",
    "assert( avg_green >= 0 and avg_green <= 255 ), \"The average green value must be between 0 and 255.\"\n",
    "assert( avg_blue >= 0 and avg_blue <= 255 ), \"The average blue value must be between 0 and 255.\"\n",
    "\n",
    "## == SUCCESS MESSAGE ==\n",
    "# You will only see this message (with the emoji showing) if you passed all test cases:\n",
    "tada = \"\\N{PARTY POPPER}\"\n",
    "print(f\"{tada} All tests passed! {tada}\")"
   ]
  },
  {
   "cell_type": "markdown",
   "metadata": {},
   "source": [
    "## See the Average Color\n",
    "\n",
    "Colors are presented in code as a tuple, `rgb(1, 2, 3)`.  Run the following code to see the average color represented as a tuple, and to see a Google search where you can view it yourself!"
   ]
  },
  {
   "cell_type": "code",
   "execution_count": 51,
   "metadata": {},
   "outputs": [
    {
     "name": "stdout",
     "output_type": "stream",
     "text": [
      "Average color: rgb(154, 134, 130)\n",
      "See it on Google: https://www.google.com/search?q=rgb(154,134,130)&\n"
     ]
    }
   ],
   "source": [
    "color = f\"rgb({round(avg_red)}, {round(avg_green)}, {round(avg_blue)})\"\n",
    "\n",
    "print(f\"Average color: {color}\")\n",
    "color = color.replace(\" \", \"\")\n",
    "print(f\"See it on Google: https://www.google.com/search?q={color}&\")"
   ]
  },
  {
   "cell_type": "markdown",
   "metadata": {},
   "source": [
    "### Analysis: Average Color\n",
    "\n",
    "**Q3: Is the average color you just found the most commonly occurring color?  If not, what does the \"average color\" tell us?**"
   ]
  },
  {
   "cell_type": "markdown",
   "metadata": {},
   "source": [
    "*(I think the average color is not the most commonly occurring color. Instead, the average color represents the overall balance of red, green, and blue values across the entire image. It gives a sense of the general tone of the image but does not reflect the specific color that appears most frequently in the image.)*"
   ]
  },
  {
   "cell_type": "markdown",
   "metadata": {},
   "source": [
    "**Q4: If you added 100 to every `b` value, but kept the other values the same, how do you think the image would change when it's viewed as an image?**"
   ]
  },
  {
   "cell_type": "markdown",
   "metadata": {},
   "source": [
    "*(The avaerage blue color will be 229, which means the image will look much more blue. Personally, I think brighter or more saturated blue tones would dominate the image, potentially shifting other colors to shades that are more cyan or purple, depending on the original balance of red and green.)*"
   ]
  },
  {
   "cell_type": "markdown",
   "metadata": {},
   "source": [
    "<hr style=\"color: #DD3403;\">"
   ]
  },
  {
   "cell_type": "markdown",
   "metadata": {},
   "source": [
    "# Submission\n",
    "\n",
    "You're almost done!  All you need to do is to commit your lab to GitHub:\n",
    "\n",
    "1.  ⚠️ **Make certain to save your work.** ⚠️ To do this, go to **File => Save All**\n",
    "\n",
    "2.  After you have saved, exit this notebook and follow the Canvas instructions to commit this lab to your Git repository!\n",
    "\n",
    "3. Your TA will grade your submission and provide you feedback after the lab is due. :)"
   ]
  }
 ],
 "metadata": {
  "kernelspec": {
   "display_name": "Python 3",
   "language": "python",
   "name": "python3"
  },
  "language_info": {
   "codemirror_mode": {
    "name": "ipython",
    "version": 3
   },
   "file_extension": ".py",
   "mimetype": "text/x-python",
   "name": "python",
   "nbconvert_exporter": "python",
   "pygments_lexer": "ipython3",
   "version": "3.12.5"
  },
  "vscode": {
   "interpreter": {
    "hash": "f48b0ea9e8281b29b1f9b6045fc5406bb9891af892053a27454c097f6ae51d2c"
   }
  }
 },
 "nbformat": 4,
 "nbformat_minor": 2
}
