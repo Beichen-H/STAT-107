{
 "cells": [
  {
   "cell_type": "markdown",
   "metadata": {
    "id": "RtmrHpmXM3EJ"
   },
   "source": [
    "# Welcome to Lab: Justice ⚖️\n",
    "\n",
    "We plan on continuing to explore simulation in Python this week. However, this time, we're going to simulate some **real-world events** that have actually happened in the past.  The goal is for you to see how we can use data science to think about issues of **equity** and **social justice**.  As usual, in addition to coding, we want you to get practice having **discussions about the data science** you're doing and think about how data science can be a useful tool that can help you in your future job and as a citizen.\n",
    "\n",
    "**IMPORTANT NOTE**: In this lab, it's *very* important that you read through the text carefully. Understanding the context is crucial for success in `lab_justice` :)\n",
    "\n",
    "A few tips to remember:\n",
    "\n",
    "- **You are not alone on your journey in learning programming!**  You have your lab Teaching Assistant, your CAs, your lab group, and the professors (Prof. Wade and Prof. Karle), who are all here to help you out!\n",
    "- If you find yourself stuck for more than a few minutes, ask a neighbor or course staff for help!  When you are giving help to your neighbor, explain the **idea and approach** to the problem without sharing the answer itself so they can have the same **<i>ah-hah</i>** moment!\n",
    "- We are here to help you!  Don't feel embarrassed or shy to ask us for help!\n",
    "\n",
    "Let's get started!"
   ]
  },
  {
   "cell_type": "code",
   "execution_count": 1,
   "metadata": {
    "id": "GQEycpmqM3EM"
   },
   "outputs": [],
   "source": [
    "# Meet your CAs and TA if you haven't already!\n",
    "# First name is enough, we'll know who they are! :)\n",
    "ta_name = \"Kunlun\"\n",
    "ca1_name = \"Jessica\"\n",
    "ca2_name = \"Jai\"\n",
    "ca3_name = \"\"\n",
    "\n",
    "\n",
    "# Working with your group will be particularly important for discussion purposes in this week's lab!\n",
    "#\n",
    "# QOTD to Ask Your Group: \"What is your favorite restaurant in Campustown/Champaign/Urbana?\"\n",
    "partner1_name = \"Christ Goncalves\"\n",
    "partner1_netid = \"christg2\"\n",
    "partner1_restaurant = \"Mcdonald's\"\n",
    "\n",
    "partner2_name = \"Beichen\"\n",
    "partner2_netid = \"beichen7\"\n",
    "partner2_restaurant = \"Cravings\"\n",
    "\n",
    "partner3_name = \"\"\n",
    "partner3_netid = \"\"\n",
    "partner3_restaurant = \"\""
   ]
  },
  {
   "cell_type": "markdown",
   "metadata": {
    "id": "AG_zd7LRM3EO"
   },
   "source": [
    "<hr style=\"color: #DD3403;\">"
   ]
  },
  {
   "cell_type": "markdown",
   "metadata": {
    "id": "toLrY9lrM3EP"
   },
   "source": [
    "# Part 1: Jury Selection + Simulation\n",
    "\n",
    "The 6th Amendment to the U.S. Constitution provides the right to an **“impartial jury”** in criminal prosecutions, but what exactly does this mean? The Supreme Court has said that juries must be drawn from a representative cross-section of the community. In other words, juries should be **randomly selected** from the eligible population. However, there are many instances in history where it doesn’t seem like this was the case.\n",
    "\n",
    "Take for example, the case of Berghuis v. Smith.  In 1993, Smith (a Black man) was convicted of 2nd-degree murder by an **all-white** jury and sentenced to life in prison. The jury was selected from a panel of about 100 randomly selected people. Only 3 of them were Black and none of those 3 made it into the final 37 considered for Smith’s trial. The county population was approximately 8 percent Black at the time of the trial.  Remember, jury panels are supposed to be selected at random from the eligible population.\n",
    "\n",
    "### Analysis: Your Initial Thoughts\n",
    "**Group Discussion: Because 8% of the eligible population was Black, 3 Black people on a panel of 100 might seem low.  Does this difference (8% vs. 3%) seem big to you? Do you think this could be due to chance?**\n",
    "\n",
    "**Q1: Write a few sentences summarizing what your group members said during your discussion.  Did people think this difference could have been due to chance or not?**\n"
   ]
  },
  {
   "cell_type": "markdown",
   "metadata": {
    "id": "Ywh0uefRM3EP"
   },
   "source": [
    "*(My group members felt the difference between 8% and 3 Black jurors could indicate a flaw in the selection process, while I thought it might be due to chance, since random sampling can lead to uneven outcomes. However, there was concern about the fairness of the process.)*"
   ]
  },
  {
   "cell_type": "markdown",
   "metadata": {
    "id": "AmUxXWQ2M3EQ"
   },
   "source": [
    "This case was appealed and sent to the Supreme Court.  Some people claimed that the overall percentage disparity (between 8% and 3%) was small and reflected no attempt to include or exclude \"a specified number of Black people from the jury.\" They claimed this \"small\" difference could simply be due to chance.  Critics and Smith claimed that the system of jury selection caused the lack of fair and reasonable representation of Black people on the jury.\n",
    "\n",
    "## Puzzle 1.1: Writing a Function\n",
    "\n",
    "Let’s do a simulation in Python to understand what’s going on.  We will eventually write a simulation to show the expected distribution.  \n",
    "\n",
    "Remember, from the case: we're trying to see if the difference between 8% and 3% is small and reflects no attempt to include or exclude \"a specified number of Black people.\"  In other words, we want to **write a function** to **randomly sample 100 people from a population that is 8% Black**. The function should `return` the **number of Black people in the simulated jury**.  We can do this multiple times and see how rare it is to get 3 or fewer Black people in the jury.\n",
    "\n",
    "First, using the cell below, import any necessary Python libraries. To write this simulation, `pandas` and `random` might be useful..."
   ]
  },
  {
   "cell_type": "code",
   "execution_count": 2,
   "metadata": {
    "id": "UQsorTwCM3EQ"
   },
   "outputs": [],
   "source": [
    "import pandas as pd\n",
    "import random"
   ]
  },
  {
   "cell_type": "markdown",
   "metadata": {
    "id": "qo9fSxcVM3ER"
   },
   "source": [
    "Then, in the following cell, define our simulation function. Remember, the function should **randomly sample 100 people from a population that is 8% Black**. The function should `return` the **number of Black people in the simulated jury**."
   ]
  },
  {
   "cell_type": "code",
   "execution_count": 3,
   "metadata": {
    "id": "RbZKnhgsM3ES"
   },
   "outputs": [],
   "source": [
    "def simulateJuryPanel():\n",
    "  result = 0\n",
    "  for i in range(100):\n",
    "    selected_jury = random.randint(1,100)\n",
    "    if selected_jury <= 8:\n",
    "      result += 1\n",
    "  return result"
   ]
  },
  {
   "cell_type": "markdown",
   "metadata": {
    "id": "rBu_W0B0M3ES"
   },
   "source": [
    "### 🔬 Test Case Checkpoint 🔬"
   ]
  },
  {
   "cell_type": "code",
   "execution_count": 4,
   "metadata": {
    "id": "Gyem_OoxM3ET",
    "outputId": "3f0ebb83-5a55-4844-f4bb-0107539f0084"
   },
   "outputs": [
    {
     "name": "stdout",
     "output_type": "stream",
     "text": [
      "🎉 All tests passed! 🎉\n"
     ]
    }
   ],
   "source": [
    "## == TEST CASES for Puzzle 1.1 ==\n",
    "# - This read-only cell contains test cases for your previous cells.\n",
    "# - If this cell runs without any error our output, you PASSED all test cases!\n",
    "# - If this cell results in any errors, check you previous cell, make changes, and RE-RUN your code and then this cell.\n",
    "assert callable(simulateJuryPanel), \"You should have defined `simulateJuryPanel` as a function above.\"\n",
    "assert isinstance(simulateJuryPanel(), int), \"Your simulateJuryPanel() function should return an integer that represents the number of Black people on a jury from a population that is 8% Black.\"\n",
    "test_juries = [simulateJuryPanel() for i in range(20)]\n",
    "for jury in test_juries:\n",
    "    assert(0 <= jury <= 100), \"Your simulateJuryPanel() should only return integers between 0 and 100.\"\n",
    "assert abs((sum(test_juries) / 20) - 8) <= 3, \"Your calculations in simulateJuryPanel() are incorrect.\"\n",
    "def check(list):\n",
    "    return(all(i==list[0] for i in list))\n",
    "assert(check(test_juries) == False), \"Your simulation is returning the same number in every iteration. This is incorrect since we are randomly sampling from a population that is 8% Black.\"\n",
    "\n",
    "## == SUCCESS MESSAGE ==\n",
    "# You will only see this message (with the emoji showing) if you passed all test cases:\n",
    "tada = \"\\N{PARTY POPPER}\"\n",
    "print(f\"{tada} All tests passed! {tada}\")"
   ]
  },
  {
   "cell_type": "markdown",
   "metadata": {
    "id": "XVZhtRvHM3EU"
   },
   "source": [
    "## Puzzle 1.2: Storing Simulation Results\n",
    "\n",
    "Now that we have a working `simulateJuryPanel()` function, let's do a simulation and store the results in a DataFrame for analysis. Let’s start by doing this simulation **1000 times**. Simulate choosing **1000 jury panels** by calling `simulateJuryPanel()` each time and store the number of Black people selected in every panel. Store these results in a DataFrame named `df`.\n",
    "\n",
    "The variable or column in the DataFrame should be named `panel`."
   ]
  },
  {
   "cell_type": "code",
   "execution_count": 5,
   "metadata": {
    "id": "B8BFousCM3EV",
    "outputId": "9b637e2e-5086-4896-a053-46835d335e5b"
   },
   "outputs": [
    {
     "data": {
      "text/html": [
       "<div>\n",
       "<style scoped>\n",
       "    .dataframe tbody tr th:only-of-type {\n",
       "        vertical-align: middle;\n",
       "    }\n",
       "\n",
       "    .dataframe tbody tr th {\n",
       "        vertical-align: top;\n",
       "    }\n",
       "\n",
       "    .dataframe thead th {\n",
       "        text-align: right;\n",
       "    }\n",
       "</style>\n",
       "<table border=\"1\" class=\"dataframe\">\n",
       "  <thead>\n",
       "    <tr style=\"text-align: right;\">\n",
       "      <th></th>\n",
       "      <th>panel</th>\n",
       "    </tr>\n",
       "  </thead>\n",
       "  <tbody>\n",
       "    <tr>\n",
       "      <th>0</th>\n",
       "      <td>8</td>\n",
       "    </tr>\n",
       "    <tr>\n",
       "      <th>1</th>\n",
       "      <td>9</td>\n",
       "    </tr>\n",
       "    <tr>\n",
       "      <th>2</th>\n",
       "      <td>15</td>\n",
       "    </tr>\n",
       "    <tr>\n",
       "      <th>3</th>\n",
       "      <td>16</td>\n",
       "    </tr>\n",
       "    <tr>\n",
       "      <th>4</th>\n",
       "      <td>9</td>\n",
       "    </tr>\n",
       "    <tr>\n",
       "      <th>...</th>\n",
       "      <td>...</td>\n",
       "    </tr>\n",
       "    <tr>\n",
       "      <th>995</th>\n",
       "      <td>7</td>\n",
       "    </tr>\n",
       "    <tr>\n",
       "      <th>996</th>\n",
       "      <td>13</td>\n",
       "    </tr>\n",
       "    <tr>\n",
       "      <th>997</th>\n",
       "      <td>4</td>\n",
       "    </tr>\n",
       "    <tr>\n",
       "      <th>998</th>\n",
       "      <td>5</td>\n",
       "    </tr>\n",
       "    <tr>\n",
       "      <th>999</th>\n",
       "      <td>12</td>\n",
       "    </tr>\n",
       "  </tbody>\n",
       "</table>\n",
       "<p>1000 rows × 1 columns</p>\n",
       "</div>"
      ],
      "text/plain": [
       "     panel\n",
       "0        8\n",
       "1        9\n",
       "2       15\n",
       "3       16\n",
       "4        9\n",
       "..     ...\n",
       "995      7\n",
       "996     13\n",
       "997      4\n",
       "998      5\n",
       "999     12\n",
       "\n",
       "[1000 rows x 1 columns]"
      ]
     },
     "execution_count": 5,
     "metadata": {},
     "output_type": "execute_result"
    }
   ],
   "source": [
    "data = []\n",
    "for i in range(1000):\n",
    "    panel = simulateJuryPanel()\n",
    "    d = {'panel':panel}\n",
    "    data.append(d)\n",
    "df = pd.DataFrame(data)\n",
    "df"
   ]
  },
  {
   "cell_type": "markdown",
   "metadata": {
    "id": "CIU-Nuy4M3EW"
   },
   "source": [
    "### 🔬 Test Case Checkpoint 🔬"
   ]
  },
  {
   "cell_type": "code",
   "execution_count": 6,
   "metadata": {
    "id": "xzf_YlC7M3EW",
    "outputId": "bb3cb181-1805-4dbc-ab8e-89d27446882d"
   },
   "outputs": [
    {
     "name": "stdout",
     "output_type": "stream",
     "text": [
      "🎉 All tests passed! 🎉\n"
     ]
    }
   ],
   "source": [
    "## == TEST CASES for Puzzle 1.2 ==\n",
    "# - This read-only cell contains test cases for your previous cell.\n",
    "# - If this cell runs with the success message as your output, you PASSED all test cases!\n",
    "# - If this cell results in any errors, check your previous cell, make changes, & RE-RUN your code & then this cell.\n",
    "assert('df' in vars()), \"Make sure your DataFrame is named `df`.\"\n",
    "assert('panel' in df.columns.to_list()), \"Make sure your simulations are stored in a column named `panel`.\"\n",
    "assert(len(df) == 1000), \"Your DataFrame is the wrong length. Perhaps you did not simulate 1000 times?\"\n",
    "assert(df['panel'].mean() < 10), \"Your simulation isn't accurately simulating a randomly selected jury panel. You just created a function for this!\"\n",
    "assert(df['panel'].mean() > 5), \"Your simulation isn't accurately simulating a randomly selected jury panel. You just created a function for this!\"\n",
    "\n",
    "## == SUCCESS MESSAGE ==\n",
    "# You'll only see this message (With the emoji showing) if you passed all test cases:\n",
    "tada = \"\\N{PARTY POPPER}\"\n",
    "print(f\"{tada} All tests passed! {tada}\")"
   ]
  },
  {
   "cell_type": "markdown",
   "metadata": {
    "id": "BPf1OUanM3EW"
   },
   "source": [
    "## Puzzle 1.3: Visualization\n",
    "\n",
    "Now, let's visualize the results of our simulation.  Since the number of Black jurors that are selected as part of the panel is a discrete variable that represents a category of results, it is best visualized with a **frequency bar chart** (histograms are best for continuous data).\n",
    "\n",
    "Follow our DISCOVERY Guide: \"Creating a Frequency Bar Chart from a DataFrame\" to create a frequency bar chart.\n",
    "- [DISCOVERY Guide: Creating a Frequency Bar Chart from a DataFrame](https://discovery.cs.illinois.edu/guides/Data-Visualization/value-counts-bar-chart/)\n",
    "\n",
    "Create your frequency bar chart below:"
   ]
  },
  {
   "cell_type": "code",
   "execution_count": 7,
   "metadata": {
    "id": "eoGEFVV9M3EX",
    "outputId": "facc28b1-d490-4097-83b9-3d1c58662bae"
   },
   "outputs": [
    {
     "data": {
      "text/plain": [
       "<Axes: >"
      ]
     },
     "execution_count": 7,
     "metadata": {},
     "output_type": "execute_result"
    },
    {
     "data": {
      "image/png": "[encoded data removed]",
      "text/plain": [
       "<Figure size 640x480 with 1 Axes>"
      ]
     },
     "metadata": {},
     "output_type": "display_data"
    }
   ],
   "source": [
    "df.plot.bar()"
   ]
  },
  {
   "cell_type": "markdown",
   "metadata": {
    "id": "GoTur8qwM3EX"
   },
   "source": [
    "### Analysis: Simulating Juries\n",
    "\n",
    "**Group Discussion: Interpret the results of your frequency bar chart.**\n",
    "\n",
    "**Q2: Write down the most interesting takeaway from your group discussion.**"
   ]
  },
  {
   "cell_type": "markdown",
   "metadata": {
    "id": "4afTiPAxM3EX"
   },
   "source": [
    "*(There are rarely extreme value higher than 12, most the number of balck are under 8)*"
   ]
  },
  {
   "cell_type": "markdown",
   "metadata": {
    "id": "VdFBpZQOM3EX"
   },
   "source": [
    "## Puzzle 1.4: Observed and Expected Value\n",
    "\n",
    "### Analysis: Expected Value\n",
    "**Q3: Considering our population metrics, what was the expected value for the number of Black people in the jury?**  "
   ]
  },
  {
   "cell_type": "markdown",
   "metadata": {
    "id": "YgsJfcFtM3EX"
   },
   "source": [
    "*(100 * 0.08 * 1000 = 8000, so the expected value for the number of Black peope in the jury under 1000 simulations is about 8000, and the expected value for each simulation is about 8)*"
   ]
  },
  {
   "cell_type": "markdown",
   "metadata": {
    "id": "bk-zfAegM3EX"
   },
   "source": [
    "Using our simulation, we will observe and note any differences between the actual mean number of Black people in the juries and our expected value.\n",
    "\n",
    "Using the cell below, calculate the `mean` number of Black people in a jury from our `df` that you created from the simulation. Store your result in the variable `mean`."
   ]
  },
  {
   "cell_type": "code",
   "execution_count": 8,
   "metadata": {
    "id": "hCDQl8u2M3EY",
    "outputId": "7ff4e6f6-27ea-46b3-f8e0-263e6c9f2b70"
   },
   "outputs": [
    {
     "data": {
      "text/plain": [
       "np.float64(8.039)"
      ]
     },
     "execution_count": 8,
     "metadata": {},
     "output_type": "execute_result"
    }
   ],
   "source": [
    "mean = df[\"panel\"].mean()\n",
    "mean"
   ]
  },
  {
   "cell_type": "markdown",
   "metadata": {
    "id": "g-GUTLOVM3EY"
   },
   "source": [
    "### 🔬 Test Case Checkpoint 🔬"
   ]
  },
  {
   "cell_type": "code",
   "execution_count": 9,
   "metadata": {
    "id": "d1kKlsqSM3EY",
    "outputId": "8f0810ec-5983-4c2e-d9a3-ebad2310c141"
   },
   "outputs": [
    {
     "name": "stdout",
     "output_type": "stream",
     "text": [
      "🎉 All tests passed! 🎉\n"
     ]
    }
   ],
   "source": [
    "## == TEST CASES for Puzzle 1.4 ==\n",
    "# - This read-only cell contains test cases for your previous cell.\n",
    "# - If this cell runs with the success message as your output, you PASSED all test cases!\n",
    "# - If this cell results in any errors, check your previous cell, make changes, & RE-RUN your code & then this cell.\n",
    "assert('mean' in vars()), \"You should store your calculated result for the mean in a variable named `mean`.\"\n",
    "assert(mean < 10), \"You didn't calculate the mean correctly!\"\n",
    "assert(mean > 5), \"You didn't calculate the mean correctly!\"\n",
    "\n",
    "## == SUCCESS MESSAGE ==\n",
    "# You'll only see this message (With the emoji showing) if you passed all test cases:\n",
    "tada = \"\\N{PARTY POPPER}\"\n",
    "print(f\"{tada} All tests passed! {tada}\")"
   ]
  },
  {
   "cell_type": "markdown",
   "metadata": {
    "id": "_jhtdTWPM3Ea"
   },
   "source": [
    "## Puzzle 1.5: Probability\n",
    "\n",
    "Now that we've done simulation and some analysis, let's **estimate the probability** that we'll get **3 or less** Black members of the jury using `df`.  Store your results in a variable named `probability`. You may want to think back to conditionals - that'll help here."
   ]
  },
  {
   "cell_type": "code",
   "execution_count": 10,
   "metadata": {
    "id": "5WeGNjjKM3Ea",
    "outputId": "0753787c-b521-459d-dfda-f0b6789ac919"
   },
   "outputs": [
    {
     "data": {
      "text/plain": [
       "0.044"
      ]
     },
     "execution_count": 10,
     "metadata": {},
     "output_type": "execute_result"
    }
   ],
   "source": [
    "number_3 = df[df[\"panel\"] <= 3]\n",
    "probability = len(number_3)/1000\n",
    "probability"
   ]
  },
  {
   "cell_type": "markdown",
   "metadata": {
    "id": "ih_NaZYJM3Ea"
   },
   "source": [
    "### 🔬 Test Case Checkpoint 🔬"
   ]
  },
  {
   "cell_type": "code",
   "execution_count": 11,
   "metadata": {
    "id": "dgwRew-CM3Eb",
    "outputId": "a88e3e99-c8b7-480d-fcd0-d4824a7bb2b8"
   },
   "outputs": [
    {
     "name": "stdout",
     "output_type": "stream",
     "text": [
      "🎉 All tests passed! 🎉\n"
     ]
    }
   ],
   "source": [
    "## == TEST CASES for Puzzle 1.5 ==\n",
    "# - This read-only cell contains test cases for your previous cell.\n",
    "# - If this cell runs with the success message as your output, you PASSED all test cases!\n",
    "# - If this cell results in any errors, check your previous cell, make changes, & RE-RUN your code & then this cell.\n",
    "assert('probability' in vars()), \"Your probability should be stored in a variable named `probability`.\"\n",
    "assert(probability < 0.05), \"You didn't calculate the probability correctly!\"\n",
    "assert(probability > 0), \"You didn't calculate the probability correctly!\"\n",
    "\n",
    "## == SUCCESS MESSAGE ==\n",
    "# You'll only see this message (With the emoji showing) if you passed all test cases:\n",
    "tada = \"\\N{PARTY POPPER}\"\n",
    "print(f\"{tada} All tests passed! {tada}\")"
   ]
  },
  {
   "cell_type": "markdown",
   "metadata": {
    "id": "Nwrk5kYqM3Ei"
   },
   "source": [
    "### Analysis: Final Jury Reflections\n",
    "\n",
    "**Q4: Answer to the following:**\n",
    "\n",
    "- (a) What does this probability mean?\n",
    "- (b) Given this probability, do you think the outcome that was observed in our case was due to chance or not?"
   ]
  },
  {
   "cell_type": "markdown",
   "metadata": {
    "id": "niCvACIWM3Ei"
   },
   "source": [
    "*(a.This means there are 0.34 simultations have the balck people less than 3 which is a large extreme value influence our data. \n",
    "b.According to this probability, I think our outcome is due to chance since 0.34 is a large probability)*"
   ]
  },
  {
   "cell_type": "markdown",
   "metadata": {
    "id": "6whJxyadM3Ej"
   },
   "source": [
    "<hr style=\"color: #DD3403;\">"
   ]
  },
  {
   "cell_type": "markdown",
   "metadata": {
    "id": "El9_H3biM3Ej"
   },
   "source": [
    "# Part 2: Names and Resumes\n",
    "\n",
    "Our next problem comes from a study looking at the correlation between names and the job hiring process.  You can read the full study here if you’d like:\n",
    ">[https://www.nber.org/system/files/working_papers/w9873/w9873.pdf](https://www.nber.org/system/files/working_papers/w9873/w9873.pdf)\n",
    "\n",
    "Here’s a summary of some findings from their study:\n",
    "- The researchers sent out a total of **4,890 resumes** to postings in Chicago and Boston.\n",
    "- The resumes that they sent were **identical**, except they changed the **names and email addresses** to have either a \"white sounding\" name or a \"black sounding\" name, according to the study.  \n",
    "- There were an equal number of resumes with \"white sounding\" and \"black sounding\" names sent out (2,445 each).\n",
    "- The resumes with \"white sounding\" names were called back for an interview **10.06%** of the time while the \"black sounding\" names were called back for an interview **6.87%** of the time.\n",
    "\n",
    "### Analysis: Initial Thoughts\n",
    "\n",
    "**Q5 (Group Discussion): Before we start coding, let’s think about this. Consider the results from the study above. Do you think this is a significant difference? Why do you think this happened? Why or why not is this problematic?**"
   ]
  },
  {
   "cell_type": "markdown",
   "metadata": {
    "id": "_K2DUgywM3Ej"
   },
   "source": [
    "*(Many group members believed the difference in callback rates (10.06% for \"white sounding\" names vs. 6.87% for \"black sounding\" names) is statistically significant due to the large sample size. They suggested that implicit biases among hiring managers might influence these outcomes, as names can trigger stereotypes. This is problematic because it undermines equal opportunity in hiring and perpetuates systemic racism, preventing qualified candidates from being considered based solely on their names.)*"
   ]
  },
  {
   "cell_type": "markdown",
   "metadata": {
    "id": "a_EASOSQM3Ej"
   },
   "source": [
    "**Assuming** that **any given resume** has about an **8.47% chance** of getting a callback **(the average callback rate observed across all resumes)**, let’s simulate this study.\n",
    "\n",
    "Since the content of the resumes are identical, we should expect to get an **equal number of callbacks** for both types of names.  In other words, picking the callbacks should be like **random sampling**.\n",
    "\n",
    "We've simulated the data in `resumes.csv` and wrote part of a simulation function to randomly sample 8.47% of the **4,890** resumes 10,000 times. You will load in the data and complete the simulation below."
   ]
  },
  {
   "cell_type": "markdown",
   "metadata": {
    "id": "T03egh-vM3Ej"
   },
   "source": [
    "## Puzzle 2.1: Load in the Data\n",
    "\n",
    "In the same folder as this lab, you have a **dataset of resumes** named `resumes.csv` that contains **4,890 rows** - the **same number** of resumes used in the study.\n",
    "\n",
    "Half are 0s (representing resumes with \"white sounding\" names) and the other half are 1s (representing resumes with \"black sounding\" names).\n",
    "\n",
    "Using `pd.read_csv`, load this data into a DataFrame named `df_resumes`:"
   ]
  },
  {
   "cell_type": "code",
   "execution_count": 12,
   "metadata": {
    "colab": {
     "base_uri": "https://localhost:8080/",
     "height": 423
    },
    "id": "tKO8M1gJM3Ek",
    "outputId": "c218e7c0-e914-418f-e5db-2de57d8abcd0"
   },
   "outputs": [
    {
     "data": {
      "text/html": [
       "<div>\n",
       "<style scoped>\n",
       "    .dataframe tbody tr th:only-of-type {\n",
       "        vertical-align: middle;\n",
       "    }\n",
       "\n",
       "    .dataframe tbody tr th {\n",
       "        vertical-align: top;\n",
       "    }\n",
       "\n",
       "    .dataframe thead th {\n",
       "        text-align: right;\n",
       "    }\n",
       "</style>\n",
       "<table border=\"1\" class=\"dataframe\">\n",
       "  <thead>\n",
       "    <tr style=\"text-align: right;\">\n",
       "      <th></th>\n",
       "      <th>Resumes</th>\n",
       "    </tr>\n",
       "  </thead>\n",
       "  <tbody>\n",
       "    <tr>\n",
       "      <th>0</th>\n",
       "      <td>0</td>\n",
       "    </tr>\n",
       "    <tr>\n",
       "      <th>1</th>\n",
       "      <td>0</td>\n",
       "    </tr>\n",
       "    <tr>\n",
       "      <th>2</th>\n",
       "      <td>0</td>\n",
       "    </tr>\n",
       "    <tr>\n",
       "      <th>3</th>\n",
       "      <td>0</td>\n",
       "    </tr>\n",
       "    <tr>\n",
       "      <th>4</th>\n",
       "      <td>0</td>\n",
       "    </tr>\n",
       "    <tr>\n",
       "      <th>...</th>\n",
       "      <td>...</td>\n",
       "    </tr>\n",
       "    <tr>\n",
       "      <th>4885</th>\n",
       "      <td>1</td>\n",
       "    </tr>\n",
       "    <tr>\n",
       "      <th>4886</th>\n",
       "      <td>1</td>\n",
       "    </tr>\n",
       "    <tr>\n",
       "      <th>4887</th>\n",
       "      <td>1</td>\n",
       "    </tr>\n",
       "    <tr>\n",
       "      <th>4888</th>\n",
       "      <td>1</td>\n",
       "    </tr>\n",
       "    <tr>\n",
       "      <th>4889</th>\n",
       "      <td>1</td>\n",
       "    </tr>\n",
       "  </tbody>\n",
       "</table>\n",
       "<p>4890 rows × 1 columns</p>\n",
       "</div>"
      ],
      "text/plain": [
       "      Resumes\n",
       "0           0\n",
       "1           0\n",
       "2           0\n",
       "3           0\n",
       "4           0\n",
       "...       ...\n",
       "4885        1\n",
       "4886        1\n",
       "4887        1\n",
       "4888        1\n",
       "4889        1\n",
       "\n",
       "[4890 rows x 1 columns]"
      ]
     },
     "execution_count": 12,
     "metadata": {},
     "output_type": "execute_result"
    }
   ],
   "source": [
    "df_resumes = pd.read_csv(\"resumes.csv\")\n",
    "df_resumes"
   ]
  },
  {
   "cell_type": "markdown",
   "metadata": {
    "id": "ZdSo9h4DM3Ek"
   },
   "source": [
    "### 🔬 Test Case Checkpoint 🔬"
   ]
  },
  {
   "cell_type": "code",
   "execution_count": 13,
   "metadata": {
    "id": "OccnCDZ0M3Ek",
    "outputId": "c7eaa45d-1b67-4734-8ea7-5a1964cf9070"
   },
   "outputs": [
    {
     "name": "stdout",
     "output_type": "stream",
     "text": [
      "🎉 All tests passed! 🎉\n"
     ]
    }
   ],
   "source": [
    "## == TEST CASES for Puzzle 2.1 ==\n",
    "# - This read-only cell contains test cases for your previous cell.\n",
    "# - If this cell runs with the success message as your output, you PASSED all test cases!\n",
    "# - If this cell results in any errors, check your previous cell, make changes, & RE-RUN your code & then this cell.\n",
    "assert('df_resumes' in vars()), \"Your DataFrame of resumes should be named `df3`.\"\n",
    "assert((len(df_resumes) == 4890) & ('Resumes' in df_resumes.columns.to_list())), \"This isn't the dataset we are looking for. Make sure you are loading the resumes.csv file.\"\n",
    "\n",
    "## == SUCCESS MESSAGE ==\n",
    "# You'll only see this message (With the emoji showing) if you passed all test cases:\n",
    "tada = \"\\N{PARTY POPPER}\"\n",
    "print(f\"{tada} All tests passed! {tada}\")"
   ]
  },
  {
   "cell_type": "markdown",
   "metadata": {
    "id": "KSbabRwZM3Ek"
   },
   "source": [
    "## Puzzle 2.2: Sampling the DataFrame for 8.47% of the Resumes\n",
    "\n",
    "Create a new DataFrame called `df_sample` that contains a random sample of 8.47% of all resumes in `df_resumes`.  This sample represents all of the resumes that received a call back if the resumes **were truly randomly selected without bias**:"
   ]
  },
  {
   "cell_type": "code",
   "execution_count": 14,
   "metadata": {
    "colab": {
     "base_uri": "https://localhost:8080/"
    },
    "id": "AiunT_u7M3Ek",
    "outputId": "40d2f748-277f-41cb-b163-700923300007"
   },
   "outputs": [
    {
     "data": {
      "text/html": [
       "<div>\n",
       "<style scoped>\n",
       "    .dataframe tbody tr th:only-of-type {\n",
       "        vertical-align: middle;\n",
       "    }\n",
       "\n",
       "    .dataframe tbody tr th {\n",
       "        vertical-align: top;\n",
       "    }\n",
       "\n",
       "    .dataframe thead th {\n",
       "        text-align: right;\n",
       "    }\n",
       "</style>\n",
       "<table border=\"1\" class=\"dataframe\">\n",
       "  <thead>\n",
       "    <tr style=\"text-align: right;\">\n",
       "      <th></th>\n",
       "      <th>Resumes</th>\n",
       "    </tr>\n",
       "  </thead>\n",
       "  <tbody>\n",
       "    <tr>\n",
       "      <th>501</th>\n",
       "      <td>0</td>\n",
       "    </tr>\n",
       "    <tr>\n",
       "      <th>3183</th>\n",
       "      <td>1</td>\n",
       "    </tr>\n",
       "    <tr>\n",
       "      <th>1475</th>\n",
       "      <td>0</td>\n",
       "    </tr>\n",
       "    <tr>\n",
       "      <th>2523</th>\n",
       "      <td>1</td>\n",
       "    </tr>\n",
       "    <tr>\n",
       "      <th>1332</th>\n",
       "      <td>0</td>\n",
       "    </tr>\n",
       "    <tr>\n",
       "      <th>...</th>\n",
       "      <td>...</td>\n",
       "    </tr>\n",
       "    <tr>\n",
       "      <th>347</th>\n",
       "      <td>0</td>\n",
       "    </tr>\n",
       "    <tr>\n",
       "      <th>4207</th>\n",
       "      <td>1</td>\n",
       "    </tr>\n",
       "    <tr>\n",
       "      <th>4858</th>\n",
       "      <td>1</td>\n",
       "    </tr>\n",
       "    <tr>\n",
       "      <th>4553</th>\n",
       "      <td>1</td>\n",
       "    </tr>\n",
       "    <tr>\n",
       "      <th>1745</th>\n",
       "      <td>0</td>\n",
       "    </tr>\n",
       "  </tbody>\n",
       "</table>\n",
       "<p>414 rows × 1 columns</p>\n",
       "</div>"
      ],
      "text/plain": [
       "      Resumes\n",
       "501         0\n",
       "3183        1\n",
       "1475        0\n",
       "2523        1\n",
       "1332        0\n",
       "...       ...\n",
       "347         0\n",
       "4207        1\n",
       "4858        1\n",
       "4553        1\n",
       "1745        0\n",
       "\n",
       "[414 rows x 1 columns]"
      ]
     },
     "execution_count": 14,
     "metadata": {},
     "output_type": "execute_result"
    }
   ],
   "source": [
    "sample_size = len(df_resumes) * 0.0847\n",
    "df_sample = df_resumes.sample(n=int(sample_size))\n",
    "df_sample"
   ]
  },
  {
   "cell_type": "markdown",
   "metadata": {
    "id": "sb-CKdOLM3El"
   },
   "source": [
    "### 🔬 Test Case Checkpoint 🔬"
   ]
  },
  {
   "cell_type": "code",
   "execution_count": 15,
   "metadata": {
    "id": "xxPW2RhxM3El",
    "outputId": "f0548db0-6904-4ac6-ac87-a8377911c7df"
   },
   "outputs": [
    {
     "name": "stdout",
     "output_type": "stream",
     "text": [
      "🎉 All tests passed! 🎉\n"
     ]
    }
   ],
   "source": [
    "## == TEST CASES for Puzzle 2.2 ==\n",
    "# - This read-only cell contains test cases for your previous cell.\n",
    "# - If this cell runs with the success message as your output, you PASSED all test cases!\n",
    "# - If this cell results in any errors, check your previous cell, make changes, & RE-RUN your code & then this cell.\n",
    "assert (\"df_sample\" in vars()), \"Make sure your dataframe is named `df_sample`.\"\n",
    "assert (abs(len(df_resumes) * 0.0847 - len(df_sample)) <= 1), \"Your parameter in .sample() is incorrect.\"\n",
    "\n",
    "## == SUCCESS MESSAGE ==\n",
    "# You'll only see this message (With the emoji showing) if you passed all test cases:\n",
    "tada = \"\\N{PARTY POPPER}\"\n",
    "print(f\"{tada} All tests passed! {tada}\")"
   ]
  },
  {
   "cell_type": "markdown",
   "metadata": {
    "id": "PVXaok8EM3El"
   },
   "source": [
    "## Storing the `callbacks_white_sounding` and `callbacks_black_sounding` Names\n",
    "\n",
    "Using your `df_sample` (the sample of all people who received callbacks), calculate two values in the next two cells:\n",
    "\n",
    "- `callbacks_black_sounding`, the number of callbacks received by people with Black-sounding names\n",
    "- `callbacks_white_sounding`, the number of callbacks received by people with white-sounding names"
   ]
  },
  {
   "cell_type": "code",
   "execution_count": 28,
   "metadata": {
    "colab": {
     "base_uri": "https://localhost:8080/",
     "height": 423
    },
    "id": "7DkQk4JLM3El",
    "outputId": "f5e4923d-1f11-4abb-c017-7dfc756a3448"
   },
   "outputs": [
    {
     "data": {
      "text/html": [
       "<div>\n",
       "<style scoped>\n",
       "    .dataframe tbody tr th:only-of-type {\n",
       "        vertical-align: middle;\n",
       "    }\n",
       "\n",
       "    .dataframe tbody tr th {\n",
       "        vertical-align: top;\n",
       "    }\n",
       "\n",
       "    .dataframe thead th {\n",
       "        text-align: right;\n",
       "    }\n",
       "</style>\n",
       "<table border=\"1\" class=\"dataframe\">\n",
       "  <thead>\n",
       "    <tr style=\"text-align: right;\">\n",
       "      <th></th>\n",
       "      <th>Resumes</th>\n",
       "    </tr>\n",
       "  </thead>\n",
       "  <tbody>\n",
       "    <tr>\n",
       "      <th>3883</th>\n",
       "      <td>1</td>\n",
       "    </tr>\n",
       "    <tr>\n",
       "      <th>3739</th>\n",
       "      <td>1</td>\n",
       "    </tr>\n",
       "    <tr>\n",
       "      <th>4369</th>\n",
       "      <td>1</td>\n",
       "    </tr>\n",
       "    <tr>\n",
       "      <th>3789</th>\n",
       "      <td>1</td>\n",
       "    </tr>\n",
       "    <tr>\n",
       "      <th>4444</th>\n",
       "      <td>1</td>\n",
       "    </tr>\n",
       "    <tr>\n",
       "      <th>...</th>\n",
       "      <td>...</td>\n",
       "    </tr>\n",
       "    <tr>\n",
       "      <th>4167</th>\n",
       "      <td>1</td>\n",
       "    </tr>\n",
       "    <tr>\n",
       "      <th>4031</th>\n",
       "      <td>1</td>\n",
       "    </tr>\n",
       "    <tr>\n",
       "      <th>3799</th>\n",
       "      <td>1</td>\n",
       "    </tr>\n",
       "    <tr>\n",
       "      <th>3323</th>\n",
       "      <td>1</td>\n",
       "    </tr>\n",
       "    <tr>\n",
       "      <th>2931</th>\n",
       "      <td>1</td>\n",
       "    </tr>\n",
       "  </tbody>\n",
       "</table>\n",
       "<p>208 rows × 1 columns</p>\n",
       "</div>"
      ],
      "text/plain": [
       "      Resumes\n",
       "3883        1\n",
       "3739        1\n",
       "4369        1\n",
       "3789        1\n",
       "4444        1\n",
       "...       ...\n",
       "4167        1\n",
       "4031        1\n",
       "3799        1\n",
       "3323        1\n",
       "2931        1\n",
       "\n",
       "[208 rows x 1 columns]"
      ]
     },
     "execution_count": 28,
     "metadata": {},
     "output_type": "execute_result"
    }
   ],
   "source": [
    "callbacks_black_sounding = df_sample[df_sample[\"Resumes\"] == 1]\n",
    "callbacks_black_sounding"
   ]
  },
  {
   "cell_type": "code",
   "execution_count": 16,
   "metadata": {},
   "outputs": [
    {
     "data": {
      "text/html": [
       "<div>\n",
       "<style scoped>\n",
       "    .dataframe tbody tr th:only-of-type {\n",
       "        vertical-align: middle;\n",
       "    }\n",
       "\n",
       "    .dataframe tbody tr th {\n",
       "        vertical-align: top;\n",
       "    }\n",
       "\n",
       "    .dataframe thead th {\n",
       "        text-align: right;\n",
       "    }\n",
       "</style>\n",
       "<table border=\"1\" class=\"dataframe\">\n",
       "  <thead>\n",
       "    <tr style=\"text-align: right;\">\n",
       "      <th></th>\n",
       "      <th>Resumes</th>\n",
       "    </tr>\n",
       "  </thead>\n",
       "  <tbody>\n",
       "    <tr>\n",
       "      <th>501</th>\n",
       "      <td>0</td>\n",
       "    </tr>\n",
       "    <tr>\n",
       "      <th>1475</th>\n",
       "      <td>0</td>\n",
       "    </tr>\n",
       "    <tr>\n",
       "      <th>1332</th>\n",
       "      <td>0</td>\n",
       "    </tr>\n",
       "    <tr>\n",
       "      <th>380</th>\n",
       "      <td>0</td>\n",
       "    </tr>\n",
       "    <tr>\n",
       "      <th>482</th>\n",
       "      <td>0</td>\n",
       "    </tr>\n",
       "    <tr>\n",
       "      <th>...</th>\n",
       "      <td>...</td>\n",
       "    </tr>\n",
       "    <tr>\n",
       "      <th>1620</th>\n",
       "      <td>0</td>\n",
       "    </tr>\n",
       "    <tr>\n",
       "      <th>2171</th>\n",
       "      <td>0</td>\n",
       "    </tr>\n",
       "    <tr>\n",
       "      <th>402</th>\n",
       "      <td>0</td>\n",
       "    </tr>\n",
       "    <tr>\n",
       "      <th>347</th>\n",
       "      <td>0</td>\n",
       "    </tr>\n",
       "    <tr>\n",
       "      <th>1745</th>\n",
       "      <td>0</td>\n",
       "    </tr>\n",
       "  </tbody>\n",
       "</table>\n",
       "<p>193 rows × 1 columns</p>\n",
       "</div>"
      ],
      "text/plain": [
       "      Resumes\n",
       "501         0\n",
       "1475        0\n",
       "1332        0\n",
       "380         0\n",
       "482         0\n",
       "...       ...\n",
       "1620        0\n",
       "2171        0\n",
       "402         0\n",
       "347         0\n",
       "1745        0\n",
       "\n",
       "[193 rows x 1 columns]"
      ]
     },
     "execution_count": 16,
     "metadata": {},
     "output_type": "execute_result"
    }
   ],
   "source": [
    "callbacks_white_sounding = df_sample[df_sample[\"Resumes\"] == 0]\n",
    "callbacks_white_sounding"
   ]
  },
  {
   "cell_type": "markdown",
   "metadata": {
    "id": "kNn1m4VVKvge"
   },
   "source": [
    "## Puzzle 2.3: Build a Simulation\n",
    "\n",
    "Using your code from Puzzle 2.2 as the real-world events, write a simulation that simulates randomly selecting a sample of 8.47% of the resumes 1,000 times and recording how many `callbacks_black_sounding` and `callbacks_white_sounding` names you got in each iteration.\n",
    "\n",
    "In recording each observation, you only need to record the `callbacks_black_sounding` and `callbacks_white_sounding` variables. In other words, your dictionary `d` will be:\n",
    "\n",
    "> ```py\n",
    "> d = { \"callbacks_black_sounding\": callbacks_black_sounding, \"callbacks_white_sounding\": callbacks_white_sounding }\n",
    "> ```\n",
    "\n",
    "Store the result of 1,000 simulations in the variable `df_simulation`:"
   ]
  },
  {
   "cell_type": "code",
   "execution_count": 31,
   "metadata": {},
   "outputs": [],
   "source": [
    "# Complete a simulation 1,000 times:\n",
    "data = []\n",
    "sample_size = (len(df_resumes) * 0.0847)\n",
    "for i in range(1000):\n",
    "    df_sample = df_resumes.sample(n=int(sample_size))\n",
    "    callbacks_black_sounding = df_sample[df_sample[\"Resumes\"] == 1].shape[0]\n",
    "    callbacks_white_sounding = df_sample[df_sample[\"Resumes\"] == 0].shape[0]\n",
    "    d = { \"callbacks_black_sounding\": callbacks_black_sounding, \"callbacks_white_sounding\": callbacks_white_sounding }\n",
    "    data.append(d)\n",
    "df_simulation = pd.DataFrame(data)\n"
   ]
  },
  {
   "cell_type": "code",
   "execution_count": 32,
   "metadata": {},
   "outputs": [
    {
     "data": {
      "text/html": [
       "<div>\n",
       "<style scoped>\n",
       "    .dataframe tbody tr th:only-of-type {\n",
       "        vertical-align: middle;\n",
       "    }\n",
       "\n",
       "    .dataframe tbody tr th {\n",
       "        vertical-align: top;\n",
       "    }\n",
       "\n",
       "    .dataframe thead th {\n",
       "        text-align: right;\n",
       "    }\n",
       "</style>\n",
       "<table border=\"1\" class=\"dataframe\">\n",
       "  <thead>\n",
       "    <tr style=\"text-align: right;\">\n",
       "      <th></th>\n",
       "      <th>callbacks_black_sounding</th>\n",
       "      <th>callbacks_white_sounding</th>\n",
       "    </tr>\n",
       "  </thead>\n",
       "  <tbody>\n",
       "    <tr>\n",
       "      <th>0</th>\n",
       "      <td>211</td>\n",
       "      <td>203</td>\n",
       "    </tr>\n",
       "    <tr>\n",
       "      <th>1</th>\n",
       "      <td>193</td>\n",
       "      <td>221</td>\n",
       "    </tr>\n",
       "    <tr>\n",
       "      <th>2</th>\n",
       "      <td>198</td>\n",
       "      <td>216</td>\n",
       "    </tr>\n",
       "    <tr>\n",
       "      <th>3</th>\n",
       "      <td>196</td>\n",
       "      <td>218</td>\n",
       "    </tr>\n",
       "    <tr>\n",
       "      <th>4</th>\n",
       "      <td>204</td>\n",
       "      <td>210</td>\n",
       "    </tr>\n",
       "    <tr>\n",
       "      <th>...</th>\n",
       "      <td>...</td>\n",
       "      <td>...</td>\n",
       "    </tr>\n",
       "    <tr>\n",
       "      <th>995</th>\n",
       "      <td>217</td>\n",
       "      <td>197</td>\n",
       "    </tr>\n",
       "    <tr>\n",
       "      <th>996</th>\n",
       "      <td>204</td>\n",
       "      <td>210</td>\n",
       "    </tr>\n",
       "    <tr>\n",
       "      <th>997</th>\n",
       "      <td>208</td>\n",
       "      <td>206</td>\n",
       "    </tr>\n",
       "    <tr>\n",
       "      <th>998</th>\n",
       "      <td>203</td>\n",
       "      <td>211</td>\n",
       "    </tr>\n",
       "    <tr>\n",
       "      <th>999</th>\n",
       "      <td>198</td>\n",
       "      <td>216</td>\n",
       "    </tr>\n",
       "  </tbody>\n",
       "</table>\n",
       "<p>1000 rows × 2 columns</p>\n",
       "</div>"
      ],
      "text/plain": [
       "     callbacks_black_sounding  callbacks_white_sounding\n",
       "0                         211                       203\n",
       "1                         193                       221\n",
       "2                         198                       216\n",
       "3                         196                       218\n",
       "4                         204                       210\n",
       "..                        ...                       ...\n",
       "995                       217                       197\n",
       "996                       204                       210\n",
       "997                       208                       206\n",
       "998                       203                       211\n",
       "999                       198                       216\n",
       "\n",
       "[1000 rows x 2 columns]"
      ]
     },
     "execution_count": 32,
     "metadata": {},
     "output_type": "execute_result"
    }
   ],
   "source": [
    "# Display the result of the simulation:\n",
    "df_simulation"
   ]
  },
  {
   "cell_type": "markdown",
   "metadata": {},
   "source": [
    "### 🔬 Test Case Checkpoint 🔬"
   ]
  },
  {
   "cell_type": "code",
   "execution_count": 33,
   "metadata": {},
   "outputs": [
    {
     "name": "stdout",
     "output_type": "stream",
     "text": [
      "🎉 All tests passed! 🎉\n"
     ]
    }
   ],
   "source": [
    "## == TEST CASES for Puzzle 2.3 ==\n",
    "# - This read-only cell contains test cases for your previous cell.\n",
    "# - If this cell runs with the success message as your output, you PASSED all test cases!\n",
    "# - If this cell results in any errors, check your previous cell, make changes, & RE-RUN your code & then this cell.\n",
    "\n",
    "assert(\"df_simulation\" in vars()), \"Make sure your resulting dataframe is named `df_simulation`.\"\n",
    "assert(\"callbacks_black_sounding\" in df_simulation), \"You've labeled your `callbacks_black_sounding` column incorrectly.\"\n",
    "assert(\"callbacks_white_sounding\" in df_simulation), \"You've labeled your `callbacks_white_sounding` column incorrectly.\"\n",
    "\n",
    "assert( len(df_simulation[ df_simulation[\"callbacks_white_sounding\"] > df_simulation[\"callbacks_black_sounding\"] ]) > 0 )\n",
    "assert( len(df_simulation[ df_simulation[\"callbacks_white_sounding\"] < df_simulation[\"callbacks_black_sounding\"] ]) > 0 )\n",
    "\n",
    "assert( df_simulation[\"callbacks_white_sounding\"].sum() > 190000 ), \"Make sure your for loop runs 1000 times.\"\n",
    "assert( df_simulation[\"callbacks_black_sounding\"].sum() > 190000 ), \"Make sure your for loop runs 1000 times.\"\n",
    "\n",
    "assert( df_simulation[\"callbacks_white_sounding\"].sum() < 230000 ), \"Make sure your for loop runs 1000 times.\"\n",
    "assert( df_simulation[\"callbacks_black_sounding\"].sum() < 230000 ), \"Make sure your for loop runs 1000 times.\"\n",
    "\n",
    "## == SUCCESS MESSAGE ==\n",
    "# You'll only see this message (With the emoji showing) if you passed all test cases:\n",
    "tada = \"\\N{PARTY POPPER}\"\n",
    "print(f\"{tada} All tests passed! {tada}\")"
   ]
  },
  {
   "cell_type": "markdown",
   "metadata": {},
   "source": [
    "## Puzzle 2.4: Calculate the Size of the Difference Between Groups\n",
    "\n",
    "Add a new column to your simulation DataFrame called `callbacks_difference` that is the magnitude of the absolute difference in number of callbacks between the two groups in your simulation.  Each row is the difference in the number of callbacks if resumes were randomly selected without bias.\n",
    "\n",
    "*Hint: Use the function `abs()` to get the absolute value of a number, or in this case, the absolute value of the difference between the two groups.*\n"
   ]
  },
  {
   "cell_type": "code",
   "execution_count": 34,
   "metadata": {
    "colab": {
     "base_uri": "https://localhost:8080/"
    },
    "id": "1sW6wcENLKhG",
    "outputId": "7bdfc0ad-1eef-40f3-e08e-868db3151205"
   },
   "outputs": [
    {
     "data": {
      "text/html": [
       "<div>\n",
       "<style scoped>\n",
       "    .dataframe tbody tr th:only-of-type {\n",
       "        vertical-align: middle;\n",
       "    }\n",
       "\n",
       "    .dataframe tbody tr th {\n",
       "        vertical-align: top;\n",
       "    }\n",
       "\n",
       "    .dataframe thead th {\n",
       "        text-align: right;\n",
       "    }\n",
       "</style>\n",
       "<table border=\"1\" class=\"dataframe\">\n",
       "  <thead>\n",
       "    <tr style=\"text-align: right;\">\n",
       "      <th></th>\n",
       "      <th>callbacks_black_sounding</th>\n",
       "      <th>callbacks_white_sounding</th>\n",
       "      <th>callbacks_difference</th>\n",
       "    </tr>\n",
       "  </thead>\n",
       "  <tbody>\n",
       "    <tr>\n",
       "      <th>0</th>\n",
       "      <td>211</td>\n",
       "      <td>203</td>\n",
       "      <td>8</td>\n",
       "    </tr>\n",
       "    <tr>\n",
       "      <th>1</th>\n",
       "      <td>193</td>\n",
       "      <td>221</td>\n",
       "      <td>28</td>\n",
       "    </tr>\n",
       "    <tr>\n",
       "      <th>2</th>\n",
       "      <td>198</td>\n",
       "      <td>216</td>\n",
       "      <td>18</td>\n",
       "    </tr>\n",
       "    <tr>\n",
       "      <th>3</th>\n",
       "      <td>196</td>\n",
       "      <td>218</td>\n",
       "      <td>22</td>\n",
       "    </tr>\n",
       "    <tr>\n",
       "      <th>4</th>\n",
       "      <td>204</td>\n",
       "      <td>210</td>\n",
       "      <td>6</td>\n",
       "    </tr>\n",
       "    <tr>\n",
       "      <th>...</th>\n",
       "      <td>...</td>\n",
       "      <td>...</td>\n",
       "      <td>...</td>\n",
       "    </tr>\n",
       "    <tr>\n",
       "      <th>995</th>\n",
       "      <td>217</td>\n",
       "      <td>197</td>\n",
       "      <td>20</td>\n",
       "    </tr>\n",
       "    <tr>\n",
       "      <th>996</th>\n",
       "      <td>204</td>\n",
       "      <td>210</td>\n",
       "      <td>6</td>\n",
       "    </tr>\n",
       "    <tr>\n",
       "      <th>997</th>\n",
       "      <td>208</td>\n",
       "      <td>206</td>\n",
       "      <td>2</td>\n",
       "    </tr>\n",
       "    <tr>\n",
       "      <th>998</th>\n",
       "      <td>203</td>\n",
       "      <td>211</td>\n",
       "      <td>8</td>\n",
       "    </tr>\n",
       "    <tr>\n",
       "      <th>999</th>\n",
       "      <td>198</td>\n",
       "      <td>216</td>\n",
       "      <td>18</td>\n",
       "    </tr>\n",
       "  </tbody>\n",
       "</table>\n",
       "<p>1000 rows × 3 columns</p>\n",
       "</div>"
      ],
      "text/plain": [
       "     callbacks_black_sounding  callbacks_white_sounding  callbacks_difference\n",
       "0                         211                       203                     8\n",
       "1                         193                       221                    28\n",
       "2                         198                       216                    18\n",
       "3                         196                       218                    22\n",
       "4                         204                       210                     6\n",
       "..                        ...                       ...                   ...\n",
       "995                       217                       197                    20\n",
       "996                       204                       210                     6\n",
       "997                       208                       206                     2\n",
       "998                       203                       211                     8\n",
       "999                       198                       216                    18\n",
       "\n",
       "[1000 rows x 3 columns]"
      ]
     },
     "execution_count": 34,
     "metadata": {},
     "output_type": "execute_result"
    }
   ],
   "source": [
    "# Add the new column \"callbacks_difference\":\n",
    "df_simulation[\"callbacks_difference\"] = abs(df_simulation[\"callbacks_black_sounding\"] - df_simulation[\"callbacks_white_sounding\"])\n",
    "df_simulation"
   ]
  },
  {
   "cell_type": "markdown",
   "metadata": {
    "id": "H-6tDMgdNsOE"
   },
   "source": [
    "### 🔬 Test Case Checkpoint 🔬"
   ]
  },
  {
   "cell_type": "code",
   "execution_count": 35,
   "metadata": {
    "id": "zvoFFRj4Nkrf",
    "outputId": "f0548db0-6904-4ac6-ac87-a8377911c7df"
   },
   "outputs": [
    {
     "name": "stdout",
     "output_type": "stream",
     "text": [
      "🎉 All tests passed! 🎉\n"
     ]
    }
   ],
   "source": [
    "## == TEST CASES for Puzzle 2.4 ==\n",
    "# - This read-only cell contains test cases for your previous cell.\n",
    "# - If this cell runs with the success message as your output, you PASSED all test cases!\n",
    "# - If this cell results in any errors, check your previous cell, make changes, & RE-RUN your code & then this cell.\n",
    "assert(\"callbacks_difference\" in df_simulation), \"Make sure your new column is called `callbacks_difference`.\"\n",
    "assert( (abs(df_simulation[\"callbacks_black_sounding\"] - df_simulation[\"callbacks_white_sounding\"]) - df_simulation[\"callbacks_difference\"]).sum() == 0 ), \"Make sure you are taking the absolute value of the difference using `abs().\"\n",
    "assert(df_simulation[\"callbacks_difference\"].mean() < 40), \"Make sure you are taking the absolute value of the difference using `abs().\"\n",
    "\n",
    "## == SUCCESS MESSAGE ==\n",
    "# You'll only see this message (With the emoji showing) if you passed all test cases:\n",
    "tada = \"\\N{PARTY POPPER}\"\n",
    "print(f\"{tada} All tests passed! {tada}\")"
   ]
  },
  {
   "cell_type": "markdown",
   "metadata": {},
   "source": [
    "## Puzzle 2.5: Finding the Samples with a Larger Impact\n",
    "\n",
    "In the study presented, the Black-sounding names were called back only 6.87% of the time and the white-sounding names were called back 10.02% of the time.  Of all the 4,890 resumes, the Black-sounding names were called back 168 times and the white-sounding names were called back 245 times. In other words, there was a **difference of 77 callbacks** between the two groups.\n",
    "\n",
    "Using your `df_simulation` DataFrame, select all of the rows with **77 or more callbacks** in the column `callbacks_difference`:"
   ]
  },
  {
   "cell_type": "code",
   "execution_count": 38,
   "metadata": {},
   "outputs": [
    {
     "data": {
      "text/html": [
       "<div>\n",
       "<style scoped>\n",
       "    .dataframe tbody tr th:only-of-type {\n",
       "        vertical-align: middle;\n",
       "    }\n",
       "\n",
       "    .dataframe tbody tr th {\n",
       "        vertical-align: top;\n",
       "    }\n",
       "\n",
       "    .dataframe thead th {\n",
       "        text-align: right;\n",
       "    }\n",
       "</style>\n",
       "<table border=\"1\" class=\"dataframe\">\n",
       "  <thead>\n",
       "    <tr style=\"text-align: right;\">\n",
       "      <th></th>\n",
       "      <th>callbacks_black_sounding</th>\n",
       "      <th>callbacks_white_sounding</th>\n",
       "      <th>callbacks_difference</th>\n",
       "    </tr>\n",
       "  </thead>\n",
       "  <tbody>\n",
       "  </tbody>\n",
       "</table>\n",
       "</div>"
      ],
      "text/plain": [
       "Empty DataFrame\n",
       "Columns: [callbacks_black_sounding, callbacks_white_sounding, callbacks_difference]\n",
       "Index: []"
      ]
     },
     "execution_count": 38,
     "metadata": {},
     "output_type": "execute_result"
    }
   ],
   "source": [
    "More_callbacks = df_simulation[df_simulation[\"callbacks_difference\"] >= 77]\n",
    "More_callbacks"
   ]
  },
  {
   "cell_type": "markdown",
   "metadata": {},
   "source": [
    "Now, using your code from above, calculate the **proportion** of simulations that had a difference of **77 or more callbacks** in the cell below."
   ]
  },
  {
   "cell_type": "code",
   "execution_count": 39,
   "metadata": {},
   "outputs": [
    {
     "data": {
      "text/plain": [
       "0.0"
      ]
     },
     "execution_count": 39,
     "metadata": {},
     "output_type": "execute_result"
    }
   ],
   "source": [
    "proportion = len(More_callbacks)/len(df_simulation)\n",
    "proportion"
   ]
  },
  {
   "cell_type": "markdown",
   "metadata": {},
   "source": [
    "## Analysis: Final Resume Names Reflection"
   ]
  },
  {
   "cell_type": "markdown",
   "metadata": {
    "id": "m0ExJPeJMw7v"
   },
   "source": [
    "**Q6: Answer to the following:**\n",
    "\n",
    "- (a) What does this proportion mean?\n",
    "- (b) Given this proportion, do you think the outcome that was observed in this study was due to chance or not?"
   ]
  },
  {
   "cell_type": "markdown",
   "metadata": {
    "id": "NtdlWLvsM1Xz"
   },
   "source": [
    "*(a.There are no difference equal or larger than 77 between two groups. b.In this case, I think the outcome in this study was not due to chance. In other words, the outcome is statistically significant, and the difference in callbacks between Black-sounding and white-sounding names likely reflects a real bias or discrimination, rather than random variation.)*"
   ]
  },
  {
   "cell_type": "markdown",
   "metadata": {
    "id": "yWprgFKpM3En"
   },
   "source": [
    "<hr style=\"color: #DD3403;\">"
   ]
  },
  {
   "cell_type": "markdown",
   "metadata": {
    "id": "fByEnlLrM3Eo"
   },
   "source": [
    "## Submission\n",
    "\n",
    "You're almost done!  All you need to do is to commit your lab to GitHub:\n",
    "\n",
    "1.  ⚠️ **Make sure to save your work.** ⚠️ To do this, go to **File => Save All**\n",
    "\n",
    "2.  After you have saved, exit this notebook & follow the Canvas instructions to commit this lab to your Git repository!\n",
    "\n",
    "3. Your TA will grade your submission & provide you feedback after the lab is due. :)"
   ]
  }
 ],
 "metadata": {
  "colab": {
   "provenance": []
  },
  "kernelspec": {
   "display_name": "Python 3",
   "language": "python",
   "name": "python3"
  },
  "language_info": {
   "codemirror_mode": {
    "name": "ipython",
    "version": 3
   },
   "file_extension": ".py",
   "mimetype": "text/x-python",
   "name": "python",
   "nbconvert_exporter": "python",
   "pygments_lexer": "ipython3",
   "version": "3.12.5"
  }
 },
 "nbformat": 4,
 "nbformat_minor": 0
}
